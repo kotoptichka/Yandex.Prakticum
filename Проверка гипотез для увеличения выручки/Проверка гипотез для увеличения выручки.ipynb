{
 "cells": [
  {
   "cell_type": "markdown",
   "metadata": {},
   "source": [
    "## Часть 1. Приоритизация гипотез."
   ]
  },
  {
   "cell_type": "markdown",
   "metadata": {},
   "source": [
    "В файле /datasets/hypothesis.csv 9 гипотез по увеличению выручки интернет-магазина с указанными параметрами Reach, Impact, Confidence, Effort."
   ]
  },
  {
   "cell_type": "markdown",
   "metadata": {},
   "source": [
    "**Описание проекта**\n",
    "\n",
    "Я — аналитик крупного интернет-магазина. Вместе с отделом маркетинга мы подготовили список гипотез для увеличения выручки.\n",
    "Будем приоритизировать гипотезы, запустим A/B-тест и проанализируем результаты."
   ]
  },
  {
   "cell_type": "markdown",
   "metadata": {},
   "source": [
    "**Что мы имеем:**\n",
    "- Файл /datasets/hypothesis.csv. Внутри:\n",
    "-- Hypothesis — краткое описание гипотезы;\n",
    "-- Reach — охват пользователей по 10-балльной шкале;\n",
    "-- Impact — влияние на пользователей по 10-балльной шкале;\n",
    "-- Confidence — уверенность в гипотезе по 10-балльной шкале;\n",
    "-- Efforts — затраты ресурсов на проверку гипотезы по 10-балльной шкале. Чем больше значение Efforts, тем дороже проверка гипотезы.\n",
    "- Файл /datasets/orders.csv. Внутри:\n",
    "-- transactionId — идентификатор заказа;\n",
    "-- visitorId — идентификатор пользователя, совершившего заказ;\n",
    "-- date — дата, когда был совершён заказ;\n",
    "-- revenue — выручка заказа;\n",
    "-- group — группа A/B-теста, в которую попал заказ.\n",
    "- Файл /datasets/visitors.csv. Внутри:\n",
    "-- date — дата;\n",
    "-- group — группа A/B-теста;\n",
    "-- visitors — количество пользователей в указанную дату в указанной группе A/B-теста"
   ]
  },
  {
   "cell_type": "markdown",
   "metadata": {},
   "source": [
    "**Изучим файлы с гипотезами.**"
   ]
  },
  {
   "cell_type": "code",
   "execution_count": 2,
   "metadata": {},
   "outputs": [],
   "source": [
    "import pandas as pd\n",
    "import numpy as np\n",
    "from datetime import datetime, timedelta\n",
    "from matplotlib import pyplot as plt\n",
    "import matplotlib as mpl\n",
    "import matplotlib.pyplot as plt\n",
    "import seaborn as sns\n",
    "import scipy.stats as stats\n",
    "import datetime as dt\n",
    "pd.options.display.max_colwidth = 100\n"
   ]
  },
  {
   "cell_type": "code",
   "execution_count": 3,
   "metadata": {},
   "outputs": [
    {
     "data": {
      "text/html": [
       "<div>\n",
       "<style scoped>\n",
       "    .dataframe tbody tr th:only-of-type {\n",
       "        vertical-align: middle;\n",
       "    }\n",
       "\n",
       "    .dataframe tbody tr th {\n",
       "        vertical-align: top;\n",
       "    }\n",
       "\n",
       "    .dataframe thead th {\n",
       "        text-align: right;\n",
       "    }\n",
       "</style>\n",
       "<table border=\"1\" class=\"dataframe\">\n",
       "  <thead>\n",
       "    <tr style=\"text-align: right;\">\n",
       "      <th></th>\n",
       "      <th>Hypothesis</th>\n",
       "      <th>Reach</th>\n",
       "      <th>Impact</th>\n",
       "      <th>Confidence</th>\n",
       "      <th>Efforts</th>\n",
       "    </tr>\n",
       "  </thead>\n",
       "  <tbody>\n",
       "    <tr>\n",
       "      <th>0</th>\n",
       "      <td>Добавить два новых канала привлечения трафика, что позволит привлекать на 30% больше пользователей</td>\n",
       "      <td>3</td>\n",
       "      <td>10</td>\n",
       "      <td>8</td>\n",
       "      <td>6</td>\n",
       "    </tr>\n",
       "    <tr>\n",
       "      <th>1</th>\n",
       "      <td>Запустить собственную службу доставки, что сократит срок доставки заказов</td>\n",
       "      <td>2</td>\n",
       "      <td>5</td>\n",
       "      <td>4</td>\n",
       "      <td>10</td>\n",
       "    </tr>\n",
       "    <tr>\n",
       "      <th>2</th>\n",
       "      <td>Добавить блоки рекомендаций товаров на сайт интернет магазина, чтобы повысить конверсию и средни...</td>\n",
       "      <td>8</td>\n",
       "      <td>3</td>\n",
       "      <td>7</td>\n",
       "      <td>3</td>\n",
       "    </tr>\n",
       "    <tr>\n",
       "      <th>3</th>\n",
       "      <td>Изменить структура категорий, что увеличит конверсию, т.к. пользователи быстрее найдут нужный товар</td>\n",
       "      <td>8</td>\n",
       "      <td>3</td>\n",
       "      <td>3</td>\n",
       "      <td>8</td>\n",
       "    </tr>\n",
       "    <tr>\n",
       "      <th>4</th>\n",
       "      <td>Изменить цвет фона главной страницы, чтобы увеличить вовлеченность пользователей</td>\n",
       "      <td>3</td>\n",
       "      <td>1</td>\n",
       "      <td>1</td>\n",
       "      <td>1</td>\n",
       "    </tr>\n",
       "    <tr>\n",
       "      <th>5</th>\n",
       "      <td>Добавить страницу отзывов клиентов о магазине, что позволит увеличить количество заказов</td>\n",
       "      <td>3</td>\n",
       "      <td>2</td>\n",
       "      <td>2</td>\n",
       "      <td>3</td>\n",
       "    </tr>\n",
       "    <tr>\n",
       "      <th>6</th>\n",
       "      <td>Показать на главной странице баннеры с актуальными акциями и распродажами, чтобы увеличить конве...</td>\n",
       "      <td>5</td>\n",
       "      <td>3</td>\n",
       "      <td>8</td>\n",
       "      <td>3</td>\n",
       "    </tr>\n",
       "    <tr>\n",
       "      <th>7</th>\n",
       "      <td>Добавить форму подписки на все основные страницы, чтобы собрать базу клиентов для email-рассылок</td>\n",
       "      <td>10</td>\n",
       "      <td>7</td>\n",
       "      <td>8</td>\n",
       "      <td>5</td>\n",
       "    </tr>\n",
       "    <tr>\n",
       "      <th>8</th>\n",
       "      <td>Запустить акцию, дающую скидку на товар в день рождения</td>\n",
       "      <td>1</td>\n",
       "      <td>9</td>\n",
       "      <td>9</td>\n",
       "      <td>5</td>\n",
       "    </tr>\n",
       "  </tbody>\n",
       "</table>\n",
       "</div>"
      ],
      "text/plain": [
       "                                                                                            Hypothesis  \\\n",
       "0   Добавить два новых канала привлечения трафика, что позволит привлекать на 30% больше пользователей   \n",
       "1                            Запустить собственную службу доставки, что сократит срок доставки заказов   \n",
       "2  Добавить блоки рекомендаций товаров на сайт интернет магазина, чтобы повысить конверсию и средни...   \n",
       "3  Изменить структура категорий, что увеличит конверсию, т.к. пользователи быстрее найдут нужный товар   \n",
       "4                     Изменить цвет фона главной страницы, чтобы увеличить вовлеченность пользователей   \n",
       "5             Добавить страницу отзывов клиентов о магазине, что позволит увеличить количество заказов   \n",
       "6  Показать на главной странице баннеры с актуальными акциями и распродажами, чтобы увеличить конве...   \n",
       "7     Добавить форму подписки на все основные страницы, чтобы собрать базу клиентов для email-рассылок   \n",
       "8                                              Запустить акцию, дающую скидку на товар в день рождения   \n",
       "\n",
       "   Reach  Impact  Confidence  Efforts  \n",
       "0      3      10           8        6  \n",
       "1      2       5           4       10  \n",
       "2      8       3           7        3  \n",
       "3      8       3           3        8  \n",
       "4      3       1           1        1  \n",
       "5      3       2           2        3  \n",
       "6      5       3           8        3  \n",
       "7     10       7           8        5  \n",
       "8      1       9           9        5  "
      ]
     },
     "execution_count": 3,
     "metadata": {},
     "output_type": "execute_result"
    }
   ],
   "source": [
    "data = pd.read_csv('/datasets/hypothesis.csv')  #записываем файл в переменную и посмотрим, что внутри\n",
    "data"
   ]
  },
  {
   "cell_type": "code",
   "execution_count": 4,
   "metadata": {},
   "outputs": [],
   "source": [
    "data.columns = data.columns.str.lower() #для удобства приведем к нижнем регистру"
   ]
  },
  {
   "cell_type": "markdown",
   "metadata": {},
   "source": [
    "### Примените фреймворк ICE для приоритизации гипотез. Отсортируйте их по убыванию приоритета."
   ]
  },
  {
   "cell_type": "code",
   "execution_count": 5,
   "metadata": {},
   "outputs": [
    {
     "name": "stdout",
     "output_type": "stream",
     "text": [
      "                                                                                            hypothesis  \\\n",
      "8                                              Запустить акцию, дающую скидку на товар в день рождения   \n",
      "0   Добавить два новых канала привлечения трафика, что позволит привлекать на 30% больше пользователей   \n",
      "7     Добавить форму подписки на все основные страницы, чтобы собрать базу клиентов для email-рассылок   \n",
      "6  Показать на главной странице баннеры с актуальными акциями и распродажами, чтобы увеличить конве...   \n",
      "2  Добавить блоки рекомендаций товаров на сайт интернет магазина, чтобы повысить конверсию и средни...   \n",
      "1                            Запустить собственную службу доставки, что сократит срок доставки заказов   \n",
      "5             Добавить страницу отзывов клиентов о магазине, что позволит увеличить количество заказов   \n",
      "3  Изменить структура категорий, что увеличит конверсию, т.к. пользователи быстрее найдут нужный товар   \n",
      "4                     Изменить цвет фона главной страницы, чтобы увеличить вовлеченность пользователей   \n",
      "\n",
      "    ICE  \n",
      "8  16.2  \n",
      "0  13.3  \n",
      "7  11.2  \n",
      "6   8.0  \n",
      "2   7.0  \n",
      "1   2.0  \n",
      "5   1.3  \n",
      "3   1.1  \n",
      "4   1.0  \n"
     ]
    }
   ],
   "source": [
    "\n",
    "data['ICE']= (data['impact']*data['confidence']/data['efforts']).round(1)\n",
    "#data['ICE'] = data['ICE'].apply(lambda x: '{:.1f}'.format(x))\n",
    "\n",
    "print((data[['hypothesis', 'ICE']]).sort_values(by='ICE', ascending=False))\n",
    "\n"
   ]
  },
  {
   "cell_type": "markdown",
   "metadata": {},
   "source": [
    "- Наиболее перспективные гипотезы 8, 0, 7"
   ]
  },
  {
   "cell_type": "markdown",
   "metadata": {},
   "source": [
    "### Примените фреймворк RICE для приоритизации гипотез. Отсортируйте их по убыванию приоритета."
   ]
  },
  {
   "cell_type": "code",
   "execution_count": 6,
   "metadata": {},
   "outputs": [
    {
     "name": "stdout",
     "output_type": "stream",
     "text": [
      "                                                                                            hypothesis  \\\n",
      "7     Добавить форму подписки на все основные страницы, чтобы собрать базу клиентов для email-рассылок   \n",
      "2  Добавить блоки рекомендаций товаров на сайт интернет магазина, чтобы повысить конверсию и средни...   \n",
      "0   Добавить два новых канала привлечения трафика, что позволит привлекать на 30% больше пользователей   \n",
      "6  Показать на главной странице баннеры с актуальными акциями и распродажами, чтобы увеличить конве...   \n",
      "8                                              Запустить акцию, дающую скидку на товар в день рождения   \n",
      "3  Изменить структура категорий, что увеличит конверсию, т.к. пользователи быстрее найдут нужный товар   \n",
      "1                            Запустить собственную службу доставки, что сократит срок доставки заказов   \n",
      "5             Добавить страницу отзывов клиентов о магазине, что позволит увеличить количество заказов   \n",
      "4                     Изменить цвет фона главной страницы, чтобы увеличить вовлеченность пользователей   \n",
      "\n",
      "    RICE  \n",
      "7  112.0  \n",
      "2   56.0  \n",
      "0   40.0  \n",
      "6   40.0  \n",
      "8   16.2  \n",
      "3    9.0  \n",
      "1    4.0  \n",
      "5    4.0  \n",
      "4    3.0  \n"
     ]
    }
   ],
   "source": [
    "data['RICE']= (data['reach']*data['impact']*data['confidence']/data['efforts']).round(1)\n",
    "print(data[['hypothesis', 'RICE']].sort_values(by='RICE', ascending=False))"
   ]
  },
  {
   "cell_type": "markdown",
   "metadata": {},
   "source": [
    "- В лидерах гипотезы 7, 2, 0"
   ]
  },
  {
   "cell_type": "markdown",
   "metadata": {},
   "source": [
    "### Укажите, как изменилась приоритизация гипотез при применении RICE вместо ICE. Объясните, почему так произошло."
   ]
  },
  {
   "cell_type": "markdown",
   "metadata": {},
   "source": [
    "- При расчете RICE список лидеров поменялся. В лидерах остались гипотезы 7 и 0, а также к ним присоединилась гипотеза 2, вытеснив 8. У гипотезы 8 охват REACH очень низкий и равен 1, у гипотезы 2 он равен 8."
   ]
  },
  {
   "cell_type": "markdown",
   "metadata": {},
   "source": [
    "## Часть 2. Анализ A/B-теста"
   ]
  },
  {
   "cell_type": "markdown",
   "metadata": {},
   "source": [
    "Вы провели A/B-тест и получили результаты, которые описаны в файлах /datasets/orders.csv и /datasets/visitors.csv.\n",
    "Проанализируйте A/B-тест:"
   ]
  },
  {
   "cell_type": "code",
   "execution_count": 7,
   "metadata": {},
   "outputs": [
    {
     "data": {
      "text/html": [
       "<div>\n",
       "<style scoped>\n",
       "    .dataframe tbody tr th:only-of-type {\n",
       "        vertical-align: middle;\n",
       "    }\n",
       "\n",
       "    .dataframe tbody tr th {\n",
       "        vertical-align: top;\n",
       "    }\n",
       "\n",
       "    .dataframe thead th {\n",
       "        text-align: right;\n",
       "    }\n",
       "</style>\n",
       "<table border=\"1\" class=\"dataframe\">\n",
       "  <thead>\n",
       "    <tr style=\"text-align: right;\">\n",
       "      <th></th>\n",
       "      <th>transactionId</th>\n",
       "      <th>visitorId</th>\n",
       "      <th>date</th>\n",
       "      <th>revenue</th>\n",
       "      <th>group</th>\n",
       "    </tr>\n",
       "  </thead>\n",
       "  <tbody>\n",
       "    <tr>\n",
       "      <th>0</th>\n",
       "      <td>3667963787</td>\n",
       "      <td>3312258926</td>\n",
       "      <td>2019-08-15</td>\n",
       "      <td>1650</td>\n",
       "      <td>B</td>\n",
       "    </tr>\n",
       "    <tr>\n",
       "      <th>1</th>\n",
       "      <td>2804400009</td>\n",
       "      <td>3642806036</td>\n",
       "      <td>2019-08-15</td>\n",
       "      <td>730</td>\n",
       "      <td>B</td>\n",
       "    </tr>\n",
       "    <tr>\n",
       "      <th>2</th>\n",
       "      <td>2961555356</td>\n",
       "      <td>4069496402</td>\n",
       "      <td>2019-08-15</td>\n",
       "      <td>400</td>\n",
       "      <td>A</td>\n",
       "    </tr>\n",
       "    <tr>\n",
       "      <th>3</th>\n",
       "      <td>3797467345</td>\n",
       "      <td>1196621759</td>\n",
       "      <td>2019-08-15</td>\n",
       "      <td>9759</td>\n",
       "      <td>B</td>\n",
       "    </tr>\n",
       "    <tr>\n",
       "      <th>4</th>\n",
       "      <td>2282983706</td>\n",
       "      <td>2322279887</td>\n",
       "      <td>2019-08-15</td>\n",
       "      <td>2308</td>\n",
       "      <td>B</td>\n",
       "    </tr>\n",
       "  </tbody>\n",
       "</table>\n",
       "</div>"
      ],
      "text/plain": [
       "   transactionId   visitorId        date  revenue group\n",
       "0     3667963787  3312258926  2019-08-15     1650     B\n",
       "1     2804400009  3642806036  2019-08-15      730     B\n",
       "2     2961555356  4069496402  2019-08-15      400     A\n",
       "3     3797467345  1196621759  2019-08-15     9759     B\n",
       "4     2282983706  2322279887  2019-08-15     2308     B"
      ]
     },
     "execution_count": 7,
     "metadata": {},
     "output_type": "execute_result"
    }
   ],
   "source": [
    "orders = pd.read_csv('/datasets/orders.csv') \n",
    "\n",
    "orders.head()\n"
   ]
  },
  {
   "cell_type": "code",
   "execution_count": 8,
   "metadata": {},
   "outputs": [
    {
     "name": "stdout",
     "output_type": "stream",
     "text": [
      "Дата начала теста: 2019-08-01\n",
      "Дата окончания теста: 2019-08-31\n"
     ]
    }
   ],
   "source": [
    "#какие сроки проведения тестирования?\n",
    "print('Дата начала теста:', orders['date'].min())\n",
    "print('Дата окончания теста:', orders['date'].max())"
   ]
  },
  {
   "cell_type": "code",
   "execution_count": 9,
   "metadata": {},
   "outputs": [
    {
     "name": "stdout",
     "output_type": "stream",
     "text": [
      "<class 'pandas.core.frame.DataFrame'>\n",
      "RangeIndex: 1197 entries, 0 to 1196\n",
      "Data columns (total 5 columns):\n",
      " #   Column         Non-Null Count  Dtype \n",
      "---  ------         --------------  ----- \n",
      " 0   transactionId  1197 non-null   int64 \n",
      " 1   visitorId      1197 non-null   int64 \n",
      " 2   date           1197 non-null   object\n",
      " 3   revenue        1197 non-null   int64 \n",
      " 4   group          1197 non-null   object\n",
      "dtypes: int64(3), object(2)\n",
      "memory usage: 46.9+ KB\n"
     ]
    },
    {
     "data": {
      "text/plain": [
       "transactionId    0\n",
       "visitorId        0\n",
       "date             0\n",
       "revenue          0\n",
       "group            0\n",
       "dtype: int64"
      ]
     },
     "execution_count": 9,
     "metadata": {},
     "output_type": "execute_result"
    }
   ],
   "source": [
    "orders.info()\n",
    "orders.isnull().sum()"
   ]
  },
  {
   "cell_type": "code",
   "execution_count": 10,
   "metadata": {},
   "outputs": [],
   "source": [
    "#пропусков нет, нужно изменить формат столбца date с object на datetime\n",
    "\n",
    "orders[\"date\"] = orders[\"date\"].map(lambda x: dt.datetime.strptime(x, '%Y-%m-%d'))\n",
    "#orders.info() проверка показала формат datetime64"
   ]
  },
  {
   "cell_type": "code",
   "execution_count": 11,
   "metadata": {},
   "outputs": [
    {
     "name": "stdout",
     "output_type": "stream",
     "text": [
      "58\n"
     ]
    }
   ],
   "source": [
    "#проверим, есть ли пользователи, попавшие в обе группы\n",
    "print(orders.groupby('visitorId').agg({'group' : 'nunique'}).query('group > 1').shape[0])"
   ]
  },
  {
   "cell_type": "markdown",
   "metadata": {},
   "source": [
    "- Такие пользователи есть и их 58 человек. Но удалять их из файла не буду, тк это может привести к некорректным данным."
   ]
  },
  {
   "cell_type": "code",
   "execution_count": 12,
   "metadata": {},
   "outputs": [
    {
     "data": {
      "text/html": [
       "<div>\n",
       "<style scoped>\n",
       "    .dataframe tbody tr th:only-of-type {\n",
       "        vertical-align: middle;\n",
       "    }\n",
       "\n",
       "    .dataframe tbody tr th {\n",
       "        vertical-align: top;\n",
       "    }\n",
       "\n",
       "    .dataframe thead th {\n",
       "        text-align: right;\n",
       "    }\n",
       "</style>\n",
       "<table border=\"1\" class=\"dataframe\">\n",
       "  <thead>\n",
       "    <tr style=\"text-align: right;\">\n",
       "      <th></th>\n",
       "      <th>date</th>\n",
       "      <th>group</th>\n",
       "      <th>visitors</th>\n",
       "    </tr>\n",
       "  </thead>\n",
       "  <tbody>\n",
       "    <tr>\n",
       "      <th>0</th>\n",
       "      <td>2019-08-01</td>\n",
       "      <td>A</td>\n",
       "      <td>719</td>\n",
       "    </tr>\n",
       "    <tr>\n",
       "      <th>1</th>\n",
       "      <td>2019-08-02</td>\n",
       "      <td>A</td>\n",
       "      <td>619</td>\n",
       "    </tr>\n",
       "    <tr>\n",
       "      <th>2</th>\n",
       "      <td>2019-08-03</td>\n",
       "      <td>A</td>\n",
       "      <td>507</td>\n",
       "    </tr>\n",
       "    <tr>\n",
       "      <th>3</th>\n",
       "      <td>2019-08-04</td>\n",
       "      <td>A</td>\n",
       "      <td>717</td>\n",
       "    </tr>\n",
       "    <tr>\n",
       "      <th>4</th>\n",
       "      <td>2019-08-05</td>\n",
       "      <td>A</td>\n",
       "      <td>756</td>\n",
       "    </tr>\n",
       "  </tbody>\n",
       "</table>\n",
       "</div>"
      ],
      "text/plain": [
       "         date group  visitors\n",
       "0  2019-08-01     A       719\n",
       "1  2019-08-02     A       619\n",
       "2  2019-08-03     A       507\n",
       "3  2019-08-04     A       717\n",
       "4  2019-08-05     A       756"
      ]
     },
     "execution_count": 12,
     "metadata": {},
     "output_type": "execute_result"
    }
   ],
   "source": [
    "visitors = pd.read_csv('/datasets/visitors.csv') \n",
    "visitors.head()\n"
   ]
  },
  {
   "cell_type": "code",
   "execution_count": 13,
   "metadata": {},
   "outputs": [
    {
     "name": "stdout",
     "output_type": "stream",
     "text": [
      "<class 'pandas.core.frame.DataFrame'>\n",
      "RangeIndex: 62 entries, 0 to 61\n",
      "Data columns (total 3 columns):\n",
      " #   Column    Non-Null Count  Dtype \n",
      "---  ------    --------------  ----- \n",
      " 0   date      62 non-null     object\n",
      " 1   group     62 non-null     object\n",
      " 2   visitors  62 non-null     int64 \n",
      "dtypes: int64(1), object(2)\n",
      "memory usage: 1.6+ KB\n"
     ]
    },
    {
     "data": {
      "text/plain": [
       "date        0\n",
       "group       0\n",
       "visitors    0\n",
       "dtype: int64"
      ]
     },
     "execution_count": 13,
     "metadata": {},
     "output_type": "execute_result"
    }
   ],
   "source": [
    "visitors.info()\n",
    "visitors.isnull().sum()"
   ]
  },
  {
   "cell_type": "code",
   "execution_count": 14,
   "metadata": {},
   "outputs": [],
   "source": [
    "visitors[\"date\"] = visitors[\"date\"].map(lambda x: dt.datetime.strptime(x, '%Y-%m-%d'))\n",
    "#visitors.info()проверка показала формат datetime64"
   ]
  },
  {
   "cell_type": "code",
   "execution_count": 15,
   "metadata": {},
   "outputs": [],
   "source": [
    "#и удаляем явные дубликаты\n",
    "visitors = visitors.drop_duplicates().reset_index(drop=True)\n",
    "orders = orders.drop_duplicates().reset_index(drop=True)"
   ]
  },
  {
   "cell_type": "markdown",
   "metadata": {},
   "source": [
    "### Постройте график кумулятивной выручки по группам. Сделайте выводы и предположения."
   ]
  },
  {
   "cell_type": "code",
   "execution_count": 16,
   "metadata": {},
   "outputs": [
    {
     "data": {
      "text/html": [
       "<div>\n",
       "<style scoped>\n",
       "    .dataframe tbody tr th:only-of-type {\n",
       "        vertical-align: middle;\n",
       "    }\n",
       "\n",
       "    .dataframe tbody tr th {\n",
       "        vertical-align: top;\n",
       "    }\n",
       "\n",
       "    .dataframe thead th {\n",
       "        text-align: right;\n",
       "    }\n",
       "</style>\n",
       "<table border=\"1\" class=\"dataframe\">\n",
       "  <thead>\n",
       "    <tr style=\"text-align: right;\">\n",
       "      <th></th>\n",
       "      <th>date</th>\n",
       "      <th>group</th>\n",
       "    </tr>\n",
       "  </thead>\n",
       "  <tbody>\n",
       "    <tr>\n",
       "      <th>0</th>\n",
       "      <td>2019-08-15</td>\n",
       "      <td>B</td>\n",
       "    </tr>\n",
       "    <tr>\n",
       "      <th>2</th>\n",
       "      <td>2019-08-15</td>\n",
       "      <td>A</td>\n",
       "    </tr>\n",
       "    <tr>\n",
       "      <th>45</th>\n",
       "      <td>2019-08-16</td>\n",
       "      <td>A</td>\n",
       "    </tr>\n",
       "    <tr>\n",
       "      <th>47</th>\n",
       "      <td>2019-08-16</td>\n",
       "      <td>B</td>\n",
       "    </tr>\n",
       "    <tr>\n",
       "      <th>55</th>\n",
       "      <td>2019-08-01</td>\n",
       "      <td>A</td>\n",
       "    </tr>\n",
       "    <tr>\n",
       "      <th>...</th>\n",
       "      <td>...</td>\n",
       "      <td>...</td>\n",
       "    </tr>\n",
       "    <tr>\n",
       "      <th>1068</th>\n",
       "      <td>2019-08-12</td>\n",
       "      <td>A</td>\n",
       "    </tr>\n",
       "    <tr>\n",
       "      <th>1114</th>\n",
       "      <td>2019-08-13</td>\n",
       "      <td>B</td>\n",
       "    </tr>\n",
       "    <tr>\n",
       "      <th>1116</th>\n",
       "      <td>2019-08-13</td>\n",
       "      <td>A</td>\n",
       "    </tr>\n",
       "    <tr>\n",
       "      <th>1149</th>\n",
       "      <td>2019-08-14</td>\n",
       "      <td>B</td>\n",
       "    </tr>\n",
       "    <tr>\n",
       "      <th>1150</th>\n",
       "      <td>2019-08-14</td>\n",
       "      <td>A</td>\n",
       "    </tr>\n",
       "  </tbody>\n",
       "</table>\n",
       "<p>62 rows × 2 columns</p>\n",
       "</div>"
      ],
      "text/plain": [
       "           date group\n",
       "0    2019-08-15     B\n",
       "2    2019-08-15     A\n",
       "45   2019-08-16     A\n",
       "47   2019-08-16     B\n",
       "55   2019-08-01     A\n",
       "...         ...   ...\n",
       "1068 2019-08-12     A\n",
       "1114 2019-08-13     B\n",
       "1116 2019-08-13     A\n",
       "1149 2019-08-14     B\n",
       "1150 2019-08-14     A\n",
       "\n",
       "[62 rows x 2 columns]"
      ]
     },
     "execution_count": 16,
     "metadata": {},
     "output_type": "execute_result"
    }
   ],
   "source": [
    "#создаем датафрейм datesGroups с уникальными парами значений 'date' и 'group' таблицы orders\n",
    "datesGroups = orders[['date','group']].drop_duplicates() \n",
    "datesGroups"
   ]
  },
  {
   "cell_type": "markdown",
   "metadata": {},
   "source": [
    "Создаем переменную **ordersAggregated**, содержащую:\n",
    "- дату;\n",
    "- группу A/B-теста;\n",
    "- число уникальных заказов в группе теста по указанную дату включительно;\n",
    "- число уникальных пользователей, совершивших хотя бы 1 заказ в группе теста по указанную дату включительно;\n",
    "- суммарную выручку заказов в группе теста по указанную дату включительно."
   ]
  },
  {
   "cell_type": "code",
   "execution_count": 17,
   "metadata": {},
   "outputs": [
    {
     "data": {
      "text/html": [
       "<div>\n",
       "<style scoped>\n",
       "    .dataframe tbody tr th:only-of-type {\n",
       "        vertical-align: middle;\n",
       "    }\n",
       "\n",
       "    .dataframe tbody tr th {\n",
       "        vertical-align: top;\n",
       "    }\n",
       "\n",
       "    .dataframe thead th {\n",
       "        text-align: right;\n",
       "    }\n",
       "</style>\n",
       "<table border=\"1\" class=\"dataframe\">\n",
       "  <thead>\n",
       "    <tr style=\"text-align: right;\">\n",
       "      <th></th>\n",
       "      <th>date</th>\n",
       "      <th>group</th>\n",
       "      <th>transactionId</th>\n",
       "      <th>visitorId</th>\n",
       "      <th>revenue</th>\n",
       "    </tr>\n",
       "  </thead>\n",
       "  <tbody>\n",
       "    <tr>\n",
       "      <th>55</th>\n",
       "      <td>2019-08-01</td>\n",
       "      <td>A</td>\n",
       "      <td>24</td>\n",
       "      <td>20</td>\n",
       "      <td>148579</td>\n",
       "    </tr>\n",
       "    <tr>\n",
       "      <th>66</th>\n",
       "      <td>2019-08-01</td>\n",
       "      <td>B</td>\n",
       "      <td>21</td>\n",
       "      <td>20</td>\n",
       "      <td>101217</td>\n",
       "    </tr>\n",
       "    <tr>\n",
       "      <th>175</th>\n",
       "      <td>2019-08-02</td>\n",
       "      <td>A</td>\n",
       "      <td>44</td>\n",
       "      <td>38</td>\n",
       "      <td>242401</td>\n",
       "    </tr>\n",
       "    <tr>\n",
       "      <th>173</th>\n",
       "      <td>2019-08-02</td>\n",
       "      <td>B</td>\n",
       "      <td>45</td>\n",
       "      <td>43</td>\n",
       "      <td>266748</td>\n",
       "    </tr>\n",
       "    <tr>\n",
       "      <th>291</th>\n",
       "      <td>2019-08-03</td>\n",
       "      <td>A</td>\n",
       "      <td>68</td>\n",
       "      <td>62</td>\n",
       "      <td>354874</td>\n",
       "    </tr>\n",
       "    <tr>\n",
       "      <th>...</th>\n",
       "      <td>...</td>\n",
       "      <td>...</td>\n",
       "      <td>...</td>\n",
       "      <td>...</td>\n",
       "      <td>...</td>\n",
       "    </tr>\n",
       "    <tr>\n",
       "      <th>496</th>\n",
       "      <td>2019-08-29</td>\n",
       "      <td>B</td>\n",
       "      <td>596</td>\n",
       "      <td>544</td>\n",
       "      <td>5559398</td>\n",
       "    </tr>\n",
       "    <tr>\n",
       "      <th>730</th>\n",
       "      <td>2019-08-30</td>\n",
       "      <td>A</td>\n",
       "      <td>545</td>\n",
       "      <td>493</td>\n",
       "      <td>4022970</td>\n",
       "    </tr>\n",
       "    <tr>\n",
       "      <th>690</th>\n",
       "      <td>2019-08-30</td>\n",
       "      <td>B</td>\n",
       "      <td>620</td>\n",
       "      <td>567</td>\n",
       "      <td>5774631</td>\n",
       "    </tr>\n",
       "    <tr>\n",
       "      <th>958</th>\n",
       "      <td>2019-08-31</td>\n",
       "      <td>A</td>\n",
       "      <td>557</td>\n",
       "      <td>503</td>\n",
       "      <td>4084803</td>\n",
       "    </tr>\n",
       "    <tr>\n",
       "      <th>930</th>\n",
       "      <td>2019-08-31</td>\n",
       "      <td>B</td>\n",
       "      <td>640</td>\n",
       "      <td>586</td>\n",
       "      <td>5907760</td>\n",
       "    </tr>\n",
       "  </tbody>\n",
       "</table>\n",
       "<p>62 rows × 5 columns</p>\n",
       "</div>"
      ],
      "text/plain": [
       "          date group  transactionId  visitorId  revenue\n",
       "55  2019-08-01     A             24         20   148579\n",
       "66  2019-08-01     B             21         20   101217\n",
       "175 2019-08-02     A             44         38   242401\n",
       "173 2019-08-02     B             45         43   266748\n",
       "291 2019-08-03     A             68         62   354874\n",
       "..         ...   ...            ...        ...      ...\n",
       "496 2019-08-29     B            596        544  5559398\n",
       "730 2019-08-30     A            545        493  4022970\n",
       "690 2019-08-30     B            620        567  5774631\n",
       "958 2019-08-31     A            557        503  4084803\n",
       "930 2019-08-31     B            640        586  5907760\n",
       "\n",
       "[62 rows x 5 columns]"
      ]
     },
     "execution_count": 17,
     "metadata": {},
     "output_type": "execute_result"
    }
   ],
   "source": [
    "#и сортируем по столбцам 'date', 'group' \n",
    "ordersAggregated = datesGroups.apply(lambda x: orders[np.logical_and(orders['date'] <= x['date'], orders['group'] == x['group'])]\\\n",
    ".agg({'date' : 'max', 'group' : 'max', 'transactionId' : 'nunique', 'visitorId' : 'nunique', 'revenue' : 'sum'}), axis=1).sort_values(by=['date','group'])\n",
    "ordersAggregated"
   ]
  },
  {
   "cell_type": "markdown",
   "metadata": {},
   "source": [
    "Создаем переменную **visitorsAggregated**, содержащую:\n",
    "- дату;\n",
    "- группу A/B-теста;\n",
    "- количество уникальных посетителей в группе теста по указанную дату включительно."
   ]
  },
  {
   "cell_type": "code",
   "execution_count": 18,
   "metadata": {},
   "outputs": [
    {
     "data": {
      "text/html": [
       "<div>\n",
       "<style scoped>\n",
       "    .dataframe tbody tr th:only-of-type {\n",
       "        vertical-align: middle;\n",
       "    }\n",
       "\n",
       "    .dataframe tbody tr th {\n",
       "        vertical-align: top;\n",
       "    }\n",
       "\n",
       "    .dataframe thead th {\n",
       "        text-align: right;\n",
       "    }\n",
       "</style>\n",
       "<table border=\"1\" class=\"dataframe\">\n",
       "  <thead>\n",
       "    <tr style=\"text-align: right;\">\n",
       "      <th></th>\n",
       "      <th>date</th>\n",
       "      <th>group</th>\n",
       "      <th>visitors</th>\n",
       "    </tr>\n",
       "  </thead>\n",
       "  <tbody>\n",
       "    <tr>\n",
       "      <th>55</th>\n",
       "      <td>2019-08-01</td>\n",
       "      <td>A</td>\n",
       "      <td>719</td>\n",
       "    </tr>\n",
       "    <tr>\n",
       "      <th>66</th>\n",
       "      <td>2019-08-01</td>\n",
       "      <td>B</td>\n",
       "      <td>713</td>\n",
       "    </tr>\n",
       "    <tr>\n",
       "      <th>175</th>\n",
       "      <td>2019-08-02</td>\n",
       "      <td>A</td>\n",
       "      <td>1338</td>\n",
       "    </tr>\n",
       "    <tr>\n",
       "      <th>173</th>\n",
       "      <td>2019-08-02</td>\n",
       "      <td>B</td>\n",
       "      <td>1294</td>\n",
       "    </tr>\n",
       "    <tr>\n",
       "      <th>291</th>\n",
       "      <td>2019-08-03</td>\n",
       "      <td>A</td>\n",
       "      <td>1845</td>\n",
       "    </tr>\n",
       "    <tr>\n",
       "      <th>...</th>\n",
       "      <td>...</td>\n",
       "      <td>...</td>\n",
       "      <td>...</td>\n",
       "    </tr>\n",
       "    <tr>\n",
       "      <th>496</th>\n",
       "      <td>2019-08-29</td>\n",
       "      <td>B</td>\n",
       "      <td>17708</td>\n",
       "    </tr>\n",
       "    <tr>\n",
       "      <th>730</th>\n",
       "      <td>2019-08-30</td>\n",
       "      <td>A</td>\n",
       "      <td>18037</td>\n",
       "    </tr>\n",
       "    <tr>\n",
       "      <th>690</th>\n",
       "      <td>2019-08-30</td>\n",
       "      <td>B</td>\n",
       "      <td>18198</td>\n",
       "    </tr>\n",
       "    <tr>\n",
       "      <th>958</th>\n",
       "      <td>2019-08-31</td>\n",
       "      <td>A</td>\n",
       "      <td>18736</td>\n",
       "    </tr>\n",
       "    <tr>\n",
       "      <th>930</th>\n",
       "      <td>2019-08-31</td>\n",
       "      <td>B</td>\n",
       "      <td>18916</td>\n",
       "    </tr>\n",
       "  </tbody>\n",
       "</table>\n",
       "<p>62 rows × 3 columns</p>\n",
       "</div>"
      ],
      "text/plain": [
       "          date group  visitors\n",
       "55  2019-08-01     A       719\n",
       "66  2019-08-01     B       713\n",
       "175 2019-08-02     A      1338\n",
       "173 2019-08-02     B      1294\n",
       "291 2019-08-03     A      1845\n",
       "..         ...   ...       ...\n",
       "496 2019-08-29     B     17708\n",
       "730 2019-08-30     A     18037\n",
       "690 2019-08-30     B     18198\n",
       "958 2019-08-31     A     18736\n",
       "930 2019-08-31     B     18916\n",
       "\n",
       "[62 rows x 3 columns]"
      ]
     },
     "execution_count": 18,
     "metadata": {},
     "output_type": "execute_result"
    }
   ],
   "source": [
    "#и сортируем по столбцам 'date', 'group' \n",
    "visitorsAggregated = datesGroups.apply(lambda x: visitors[np.logical_and(visitors['date'] <= x['date'], visitors['group'] == x['group'])].agg({'date' : 'max', 'group' : 'max', 'visitors' : 'sum'}), axis=1).sort_values(by=['date','group'])\n",
    "visitorsAggregated"
   ]
  },
  {
   "cell_type": "code",
   "execution_count": 19,
   "metadata": {},
   "outputs": [
    {
     "data": {
      "text/html": [
       "<div>\n",
       "<style scoped>\n",
       "    .dataframe tbody tr th:only-of-type {\n",
       "        vertical-align: middle;\n",
       "    }\n",
       "\n",
       "    .dataframe tbody tr th {\n",
       "        vertical-align: top;\n",
       "    }\n",
       "\n",
       "    .dataframe thead th {\n",
       "        text-align: right;\n",
       "    }\n",
       "</style>\n",
       "<table border=\"1\" class=\"dataframe\">\n",
       "  <thead>\n",
       "    <tr style=\"text-align: right;\">\n",
       "      <th></th>\n",
       "      <th>date</th>\n",
       "      <th>group</th>\n",
       "      <th>orders</th>\n",
       "      <th>buyers</th>\n",
       "      <th>revenue</th>\n",
       "      <th>visitors</th>\n",
       "    </tr>\n",
       "  </thead>\n",
       "  <tbody>\n",
       "    <tr>\n",
       "      <th>0</th>\n",
       "      <td>2019-08-01</td>\n",
       "      <td>A</td>\n",
       "      <td>24</td>\n",
       "      <td>20</td>\n",
       "      <td>148579</td>\n",
       "      <td>719</td>\n",
       "    </tr>\n",
       "    <tr>\n",
       "      <th>1</th>\n",
       "      <td>2019-08-01</td>\n",
       "      <td>B</td>\n",
       "      <td>21</td>\n",
       "      <td>20</td>\n",
       "      <td>101217</td>\n",
       "      <td>713</td>\n",
       "    </tr>\n",
       "    <tr>\n",
       "      <th>2</th>\n",
       "      <td>2019-08-02</td>\n",
       "      <td>A</td>\n",
       "      <td>44</td>\n",
       "      <td>38</td>\n",
       "      <td>242401</td>\n",
       "      <td>1338</td>\n",
       "    </tr>\n",
       "    <tr>\n",
       "      <th>3</th>\n",
       "      <td>2019-08-02</td>\n",
       "      <td>B</td>\n",
       "      <td>45</td>\n",
       "      <td>43</td>\n",
       "      <td>266748</td>\n",
       "      <td>1294</td>\n",
       "    </tr>\n",
       "    <tr>\n",
       "      <th>4</th>\n",
       "      <td>2019-08-03</td>\n",
       "      <td>A</td>\n",
       "      <td>68</td>\n",
       "      <td>62</td>\n",
       "      <td>354874</td>\n",
       "      <td>1845</td>\n",
       "    </tr>\n",
       "    <tr>\n",
       "      <th>...</th>\n",
       "      <td>...</td>\n",
       "      <td>...</td>\n",
       "      <td>...</td>\n",
       "      <td>...</td>\n",
       "      <td>...</td>\n",
       "      <td>...</td>\n",
       "    </tr>\n",
       "    <tr>\n",
       "      <th>57</th>\n",
       "      <td>2019-08-29</td>\n",
       "      <td>B</td>\n",
       "      <td>596</td>\n",
       "      <td>544</td>\n",
       "      <td>5559398</td>\n",
       "      <td>17708</td>\n",
       "    </tr>\n",
       "    <tr>\n",
       "      <th>58</th>\n",
       "      <td>2019-08-30</td>\n",
       "      <td>A</td>\n",
       "      <td>545</td>\n",
       "      <td>493</td>\n",
       "      <td>4022970</td>\n",
       "      <td>18037</td>\n",
       "    </tr>\n",
       "    <tr>\n",
       "      <th>59</th>\n",
       "      <td>2019-08-30</td>\n",
       "      <td>B</td>\n",
       "      <td>620</td>\n",
       "      <td>567</td>\n",
       "      <td>5774631</td>\n",
       "      <td>18198</td>\n",
       "    </tr>\n",
       "    <tr>\n",
       "      <th>60</th>\n",
       "      <td>2019-08-31</td>\n",
       "      <td>A</td>\n",
       "      <td>557</td>\n",
       "      <td>503</td>\n",
       "      <td>4084803</td>\n",
       "      <td>18736</td>\n",
       "    </tr>\n",
       "    <tr>\n",
       "      <th>61</th>\n",
       "      <td>2019-08-31</td>\n",
       "      <td>B</td>\n",
       "      <td>640</td>\n",
       "      <td>586</td>\n",
       "      <td>5907760</td>\n",
       "      <td>18916</td>\n",
       "    </tr>\n",
       "  </tbody>\n",
       "</table>\n",
       "<p>62 rows × 6 columns</p>\n",
       "</div>"
      ],
      "text/plain": [
       "         date group  orders  buyers  revenue  visitors\n",
       "0  2019-08-01     A      24      20   148579       719\n",
       "1  2019-08-01     B      21      20   101217       713\n",
       "2  2019-08-02     A      44      38   242401      1338\n",
       "3  2019-08-02     B      45      43   266748      1294\n",
       "4  2019-08-03     A      68      62   354874      1845\n",
       "..        ...   ...     ...     ...      ...       ...\n",
       "57 2019-08-29     B     596     544  5559398     17708\n",
       "58 2019-08-30     A     545     493  4022970     18037\n",
       "59 2019-08-30     B     620     567  5774631     18198\n",
       "60 2019-08-31     A     557     503  4084803     18736\n",
       "61 2019-08-31     B     640     586  5907760     18916\n",
       "\n",
       "[62 rows x 6 columns]"
      ]
     },
     "execution_count": 19,
     "metadata": {},
     "output_type": "execute_result"
    }
   ],
   "source": [
    "# объединяем ordersAggregated и visitorsAggregated по колонкам 'date', 'group' \n",
    "#записываем результат в переменную cumulativeData и называем столбцы\n",
    "cumulativeData = ordersAggregated.merge(visitorsAggregated, left_on=['date', 'group'], right_on=['date', 'group'])\n",
    "cumulativeData.columns = ['date', 'group', 'orders', 'buyers', 'revenue', 'visitors']\n",
    "cumulativeData"
   ]
  },
  {
   "cell_type": "code",
   "execution_count": 20,
   "metadata": {},
   "outputs": [
    {
     "data": {
      "text/html": [
       "<div>\n",
       "<style scoped>\n",
       "    .dataframe tbody tr th:only-of-type {\n",
       "        vertical-align: middle;\n",
       "    }\n",
       "\n",
       "    .dataframe tbody tr th {\n",
       "        vertical-align: top;\n",
       "    }\n",
       "\n",
       "    .dataframe thead th {\n",
       "        text-align: right;\n",
       "    }\n",
       "</style>\n",
       "<table border=\"1\" class=\"dataframe\">\n",
       "  <thead>\n",
       "    <tr style=\"text-align: right;\">\n",
       "      <th></th>\n",
       "      <th>date</th>\n",
       "      <th>revenue</th>\n",
       "      <th>orders</th>\n",
       "    </tr>\n",
       "  </thead>\n",
       "  <tbody>\n",
       "    <tr>\n",
       "      <th>0</th>\n",
       "      <td>2019-08-01</td>\n",
       "      <td>148579</td>\n",
       "      <td>24</td>\n",
       "    </tr>\n",
       "    <tr>\n",
       "      <th>2</th>\n",
       "      <td>2019-08-02</td>\n",
       "      <td>242401</td>\n",
       "      <td>44</td>\n",
       "    </tr>\n",
       "    <tr>\n",
       "      <th>4</th>\n",
       "      <td>2019-08-03</td>\n",
       "      <td>354874</td>\n",
       "      <td>68</td>\n",
       "    </tr>\n",
       "    <tr>\n",
       "      <th>6</th>\n",
       "      <td>2019-08-04</td>\n",
       "      <td>425699</td>\n",
       "      <td>84</td>\n",
       "    </tr>\n",
       "    <tr>\n",
       "      <th>8</th>\n",
       "      <td>2019-08-05</td>\n",
       "      <td>549917</td>\n",
       "      <td>109</td>\n",
       "    </tr>\n",
       "  </tbody>\n",
       "</table>\n",
       "</div>"
      ],
      "text/plain": [
       "        date  revenue  orders\n",
       "0 2019-08-01   148579      24\n",
       "2 2019-08-02   242401      44\n",
       "4 2019-08-03   354874      68\n",
       "6 2019-08-04   425699      84\n",
       "8 2019-08-05   549917     109"
      ]
     },
     "execution_count": 20,
     "metadata": {},
     "output_type": "execute_result"
    }
   ],
   "source": [
    "#в переменную cumulativeRevenueA сохраняем данные о датах, выручке и числе заказов в группе A\n",
    "cumulativeRevenueA = cumulativeData[cumulativeData['group']=='A'][['date','revenue', 'orders']]\n",
    "cumulativeRevenueA.head()"
   ]
  },
  {
   "cell_type": "code",
   "execution_count": 21,
   "metadata": {},
   "outputs": [
    {
     "data": {
      "text/html": [
       "<div>\n",
       "<style scoped>\n",
       "    .dataframe tbody tr th:only-of-type {\n",
       "        vertical-align: middle;\n",
       "    }\n",
       "\n",
       "    .dataframe tbody tr th {\n",
       "        vertical-align: top;\n",
       "    }\n",
       "\n",
       "    .dataframe thead th {\n",
       "        text-align: right;\n",
       "    }\n",
       "</style>\n",
       "<table border=\"1\" class=\"dataframe\">\n",
       "  <thead>\n",
       "    <tr style=\"text-align: right;\">\n",
       "      <th></th>\n",
       "      <th>date</th>\n",
       "      <th>revenue</th>\n",
       "      <th>orders</th>\n",
       "    </tr>\n",
       "  </thead>\n",
       "  <tbody>\n",
       "    <tr>\n",
       "      <th>1</th>\n",
       "      <td>2019-08-01</td>\n",
       "      <td>101217</td>\n",
       "      <td>21</td>\n",
       "    </tr>\n",
       "    <tr>\n",
       "      <th>3</th>\n",
       "      <td>2019-08-02</td>\n",
       "      <td>266748</td>\n",
       "      <td>45</td>\n",
       "    </tr>\n",
       "    <tr>\n",
       "      <th>5</th>\n",
       "      <td>2019-08-03</td>\n",
       "      <td>380996</td>\n",
       "      <td>61</td>\n",
       "    </tr>\n",
       "    <tr>\n",
       "      <th>7</th>\n",
       "      <td>2019-08-04</td>\n",
       "      <td>489567</td>\n",
       "      <td>78</td>\n",
       "    </tr>\n",
       "    <tr>\n",
       "      <th>9</th>\n",
       "      <td>2019-08-05</td>\n",
       "      <td>581995</td>\n",
       "      <td>101</td>\n",
       "    </tr>\n",
       "  </tbody>\n",
       "</table>\n",
       "</div>"
      ],
      "text/plain": [
       "        date  revenue  orders\n",
       "1 2019-08-01   101217      21\n",
       "3 2019-08-02   266748      45\n",
       "5 2019-08-03   380996      61\n",
       "7 2019-08-04   489567      78\n",
       "9 2019-08-05   581995     101"
      ]
     },
     "execution_count": 21,
     "metadata": {},
     "output_type": "execute_result"
    }
   ],
   "source": [
    "#в переменную cumulativeRevenueB сохраняем данные о датах, выручке и числе заказов в группе В \n",
    "cumulativeRevenueB = cumulativeData[cumulativeData['group']=='B'][['date','revenue', 'orders']]\n",
    "cumulativeRevenueB.head()"
   ]
  },
  {
   "cell_type": "code",
   "execution_count": 22,
   "metadata": {},
   "outputs": [
    {
     "data": {
      "text/plain": [
       "<matplotlib.legend.Legend at 0x7f844a56cca0>"
      ]
     },
     "execution_count": 22,
     "metadata": {},
     "output_type": "execute_result"
    },
    {
     "data": {
      "image/png": "[encoded data removed]",
      "text/plain": [
       "<Figure size 1080x360 with 1 Axes>"
      ]
     },
     "metadata": {
      "needs_background": "light"
     },
     "output_type": "display_data"
    }
   ],
   "source": [
    "plt.figure(figsize=(15,5))\n",
    "# Строим график выручки группы А\n",
    "plt.plot(cumulativeRevenueA['date'], cumulativeRevenueA['revenue'], label='A')\n",
    "\n",
    "# Строим график выручки группы B\n",
    "plt.plot(cumulativeRevenueB['date'], cumulativeRevenueB['revenue'], label='B')\n",
    "plt.xlabel('Период')\n",
    "plt.ylabel('Выручка, рубли')\n",
    "plt.figtext(.5,.9,'график кумулятивной выручки по группам', fontsize=12, ha='center')\n",
    "plt.legend() "
   ]
  },
  {
   "cell_type": "markdown",
   "metadata": {},
   "source": [
    "- Первый отрезок времени обе группы шли рядом,  5 августа разошлись в пользу **группы В**, сошлись 8 августа и дальше **группа В** снова вырывается вперед и лидирует до конца теста"
   ]
  },
  {
   "cell_type": "markdown",
   "metadata": {},
   "source": [
    "### Постройте график кумулятивного среднего чека по группам. Сделайте выводы и предположения."
   ]
  },
  {
   "cell_type": "code",
   "execution_count": 23,
   "metadata": {},
   "outputs": [
    {
     "data": {
      "text/plain": [
       "<matplotlib.legend.Legend at 0x7f8442020280>"
      ]
     },
     "execution_count": 23,
     "metadata": {},
     "output_type": "execute_result"
    },
    {
     "data": {
      "image/png": "[encoded data removed]",
      "text/plain": [
       "<Figure size 1080x360 with 1 Axes>"
      ]
     },
     "metadata": {
      "needs_background": "light"
     },
     "output_type": "display_data"
    }
   ],
   "source": [
    "plt.figure(figsize=(15,5))\n",
    "plt.plot(cumulativeRevenueA['date'], cumulativeRevenueA['revenue']/cumulativeRevenueA['orders'], label='A')\n",
    "plt.plot(cumulativeRevenueB['date'], cumulativeRevenueB['revenue']/cumulativeRevenueB['orders'], label='B')\n",
    "plt.xlabel('Период')\n",
    "plt.ylabel('Средний чек, рубли')\n",
    "plt.figtext(.5,.9,'график кумулятивного среднего чека по группам', fontsize=12, ha='center')\n",
    "plt.legend() "
   ]
  },
  {
   "cell_type": "markdown",
   "metadata": {},
   "source": [
    "- Кумулятивное значение среднего чека в обеих группах колеблется. Скорее всего есть выбросы и делать какие-то выводы пока рано."
   ]
  },
  {
   "cell_type": "markdown",
   "metadata": {},
   "source": [
    "### Постройте график относительного изменения кумулятивного среднего чека группы B к группе A. Сделайте выводы и предположения."
   ]
  },
  {
   "cell_type": "markdown",
   "metadata": {},
   "source": [
    "- Для построения графика объединияем таблицы **cumulativeRevenueA** и **cumulativeRevenueB**. Она будет содержать столбцы: ['date', 'revenueA', 'revenueB', 'ordersA', 'ordersB']. Сохраняем в переменной **mergedCumulativeRevenue**"
   ]
  },
  {
   "cell_type": "code",
   "execution_count": 24,
   "metadata": {},
   "outputs": [
    {
     "data": {
      "text/plain": [
       "Text(0.5, 0.9, 'Относительное изменение кумулятивного среднего чека группы B к группе A')"
      ]
     },
     "execution_count": 24,
     "metadata": {},
     "output_type": "execute_result"
    },
    {
     "data": {
      "image/png": "[encoded data removed]",
      "text/plain": [
       "<Figure size 1080x360 with 1 Axes>"
      ]
     },
     "metadata": {
      "needs_background": "light"
     },
     "output_type": "display_data"
    }
   ],
   "source": [
    "mergedCumulativeRevenue = cumulativeRevenueA.merge(cumulativeRevenueB, left_on='date', right_on='date', how='left', suffixes=['A', 'B'])\n",
    "plt.figure(figsize=(15,5))\n",
    "# cтроим отношение средних чеков\n",
    "plt.plot(mergedCumulativeRevenue['date'], (mergedCumulativeRevenue['revenueB']/mergedCumulativeRevenue['ordersB'])/(mergedCumulativeRevenue['revenueA']/mergedCumulativeRevenue['ordersA'])-1)\n",
    "\n",
    "# добавляем ось X\n",
    "plt.axhline(y=0, color='black', linestyle='--') \n",
    "plt.xlabel('Период')\n",
    "plt.figtext(.5,.9,'Относительное изменение кумулятивного среднего чека группы B к группе A', fontsize=12, ha='center')"
   ]
  },
  {
   "cell_type": "markdown",
   "metadata": {},
   "source": [
    "- Видим в несколько дат резкие изменения. Наверное это даты совершения аномальных заказов."
   ]
  },
  {
   "cell_type": "markdown",
   "metadata": {},
   "source": [
    "### Постройте график кумулятивной конверсии по группам. Сделайте выводы и предположения."
   ]
  },
  {
   "cell_type": "markdown",
   "metadata": {},
   "source": []
  },
  {
   "cell_type": "code",
   "execution_count": 25,
   "metadata": {},
   "outputs": [],
   "source": [
    "cumulativeData['conversion'] = cumulativeData['orders']/cumulativeData['visitors']\n",
    "cumulativeDataA = cumulativeData[cumulativeData['group']=='A']\n",
    "cumulativeDataB = cumulativeData[cumulativeData['group']=='B']\n"
   ]
  },
  {
   "cell_type": "code",
   "execution_count": 26,
   "metadata": {},
   "outputs": [
    {
     "data": {
      "text/plain": [
       "(18109.0, 18139.0, 0.0, 0.05)"
      ]
     },
     "execution_count": 26,
     "metadata": {},
     "output_type": "execute_result"
    },
    {
     "data": {
      "image/png": "[encoded data removed]",
      "text/plain": [
       "<Figure size 1080x360 with 1 Axes>"
      ]
     },
     "metadata": {
      "needs_background": "light"
     },
     "output_type": "display_data"
    }
   ],
   "source": [
    "# строим графики\n",
    "plt.figure(figsize=(15,5))\n",
    "plt.plot(cumulativeDataA['date'], cumulativeDataA['conversion'], label='A')\n",
    "plt.plot(cumulativeDataB['date'], cumulativeDataB['conversion'], label='B')\n",
    "plt.legend()\n",
    "plt.xlabel('Период')\n",
    "plt.ylabel('Кумулятивная конверсия')\n",
    "plt.figtext(.5,.9,'график кумулятивной конверсии по группам', fontsize=12, ha='center')\n",
    "# задаем масштаб осей\n",
    "plt.axis([dt.datetime(2019, 8, 1), dt.datetime(2019, 8, 31), 0, 0.05])"
   ]
  },
  {
   "cell_type": "markdown",
   "metadata": {},
   "source": [
    "- После некоторых колебаний в самом начале теста, где группа В больше уступала, чем выигрывала, она довольно быстро выходит вперед и опережает группу А по конверсии до конца теста. С того же момента оба сегмента выравниваются. Колебания небольшие: от 0,300 до 0,375. "
   ]
  },
  {
   "cell_type": "markdown",
   "metadata": {},
   "source": [
    "### Постройте график относительного изменения кумулятивной конверсии группы B к группе A. Сделайте выводы и предположения."
   ]
  },
  {
   "cell_type": "markdown",
   "metadata": {},
   "source": [
    "- Для построения графика объединияем таблицы **cumulativeRevenueA** и **cumulativeRevenueB**. Она будет содержать столбцы: ['date', 'conversionA', 'conversionB']. Сохраняем в переменной **mergedCumulativeConversions**"
   ]
  },
  {
   "cell_type": "code",
   "execution_count": 27,
   "metadata": {},
   "outputs": [
    {
     "data": {
      "text/html": [
       "<div>\n",
       "<style scoped>\n",
       "    .dataframe tbody tr th:only-of-type {\n",
       "        vertical-align: middle;\n",
       "    }\n",
       "\n",
       "    .dataframe tbody tr th {\n",
       "        vertical-align: top;\n",
       "    }\n",
       "\n",
       "    .dataframe thead th {\n",
       "        text-align: right;\n",
       "    }\n",
       "</style>\n",
       "<table border=\"1\" class=\"dataframe\">\n",
       "  <thead>\n",
       "    <tr style=\"text-align: right;\">\n",
       "      <th></th>\n",
       "      <th>date</th>\n",
       "      <th>conversionA</th>\n",
       "      <th>conversionB</th>\n",
       "    </tr>\n",
       "  </thead>\n",
       "  <tbody>\n",
       "    <tr>\n",
       "      <th>0</th>\n",
       "      <td>2019-08-01</td>\n",
       "      <td>0.033380</td>\n",
       "      <td>0.029453</td>\n",
       "    </tr>\n",
       "    <tr>\n",
       "      <th>1</th>\n",
       "      <td>2019-08-02</td>\n",
       "      <td>0.032885</td>\n",
       "      <td>0.034776</td>\n",
       "    </tr>\n",
       "    <tr>\n",
       "      <th>2</th>\n",
       "      <td>2019-08-03</td>\n",
       "      <td>0.036856</td>\n",
       "      <td>0.033833</td>\n",
       "    </tr>\n",
       "    <tr>\n",
       "      <th>3</th>\n",
       "      <td>2019-08-04</td>\n",
       "      <td>0.032787</td>\n",
       "      <td>0.030315</td>\n",
       "    </tr>\n",
       "    <tr>\n",
       "      <th>4</th>\n",
       "      <td>2019-08-05</td>\n",
       "      <td>0.032851</td>\n",
       "      <td>0.030793</td>\n",
       "    </tr>\n",
       "    <tr>\n",
       "      <th>5</th>\n",
       "      <td>2019-08-06</td>\n",
       "      <td>0.031870</td>\n",
       "      <td>0.032783</td>\n",
       "    </tr>\n",
       "    <tr>\n",
       "      <th>6</th>\n",
       "      <td>2019-08-07</td>\n",
       "      <td>0.031324</td>\n",
       "      <td>0.032946</td>\n",
       "    </tr>\n",
       "    <tr>\n",
       "      <th>7</th>\n",
       "      <td>2019-08-08</td>\n",
       "      <td>0.030731</td>\n",
       "      <td>0.033975</td>\n",
       "    </tr>\n",
       "    <tr>\n",
       "      <th>8</th>\n",
       "      <td>2019-08-09</td>\n",
       "      <td>0.030225</td>\n",
       "      <td>0.034699</td>\n",
       "    </tr>\n",
       "    <tr>\n",
       "      <th>9</th>\n",
       "      <td>2019-08-10</td>\n",
       "      <td>0.030821</td>\n",
       "      <td>0.036323</td>\n",
       "    </tr>\n",
       "    <tr>\n",
       "      <th>10</th>\n",
       "      <td>2019-08-11</td>\n",
       "      <td>0.029513</td>\n",
       "      <td>0.034438</td>\n",
       "    </tr>\n",
       "    <tr>\n",
       "      <th>11</th>\n",
       "      <td>2019-08-12</td>\n",
       "      <td>0.030363</td>\n",
       "      <td>0.035009</td>\n",
       "    </tr>\n",
       "    <tr>\n",
       "      <th>12</th>\n",
       "      <td>2019-08-13</td>\n",
       "      <td>0.029316</td>\n",
       "      <td>0.034296</td>\n",
       "    </tr>\n",
       "    <tr>\n",
       "      <th>13</th>\n",
       "      <td>2019-08-14</td>\n",
       "      <td>0.029587</td>\n",
       "      <td>0.034011</td>\n",
       "    </tr>\n",
       "    <tr>\n",
       "      <th>14</th>\n",
       "      <td>2019-08-15</td>\n",
       "      <td>0.029217</td>\n",
       "      <td>0.035312</td>\n",
       "    </tr>\n",
       "    <tr>\n",
       "      <th>15</th>\n",
       "      <td>2019-08-16</td>\n",
       "      <td>0.029959</td>\n",
       "      <td>0.035853</td>\n",
       "    </tr>\n",
       "    <tr>\n",
       "      <th>16</th>\n",
       "      <td>2019-08-17</td>\n",
       "      <td>0.029735</td>\n",
       "      <td>0.035749</td>\n",
       "    </tr>\n",
       "    <tr>\n",
       "      <th>17</th>\n",
       "      <td>2019-08-18</td>\n",
       "      <td>0.029478</td>\n",
       "      <td>0.034196</td>\n",
       "    </tr>\n",
       "    <tr>\n",
       "      <th>18</th>\n",
       "      <td>2019-08-19</td>\n",
       "      <td>0.030097</td>\n",
       "      <td>0.034569</td>\n",
       "    </tr>\n",
       "    <tr>\n",
       "      <th>19</th>\n",
       "      <td>2019-08-20</td>\n",
       "      <td>0.029662</td>\n",
       "      <td>0.034621</td>\n",
       "    </tr>\n",
       "    <tr>\n",
       "      <th>20</th>\n",
       "      <td>2019-08-21</td>\n",
       "      <td>0.029961</td>\n",
       "      <td>0.033944</td>\n",
       "    </tr>\n",
       "    <tr>\n",
       "      <th>21</th>\n",
       "      <td>2019-08-22</td>\n",
       "      <td>0.029794</td>\n",
       "      <td>0.034161</td>\n",
       "    </tr>\n",
       "    <tr>\n",
       "      <th>22</th>\n",
       "      <td>2019-08-23</td>\n",
       "      <td>0.030588</td>\n",
       "      <td>0.033902</td>\n",
       "    </tr>\n",
       "    <tr>\n",
       "      <th>23</th>\n",
       "      <td>2019-08-24</td>\n",
       "      <td>0.030792</td>\n",
       "      <td>0.034122</td>\n",
       "    </tr>\n",
       "    <tr>\n",
       "      <th>24</th>\n",
       "      <td>2019-08-25</td>\n",
       "      <td>0.030181</td>\n",
       "      <td>0.033516</td>\n",
       "    </tr>\n",
       "    <tr>\n",
       "      <th>25</th>\n",
       "      <td>2019-08-26</td>\n",
       "      <td>0.029812</td>\n",
       "      <td>0.033664</td>\n",
       "    </tr>\n",
       "    <tr>\n",
       "      <th>26</th>\n",
       "      <td>2019-08-27</td>\n",
       "      <td>0.030227</td>\n",
       "      <td>0.033166</td>\n",
       "    </tr>\n",
       "    <tr>\n",
       "      <th>27</th>\n",
       "      <td>2019-08-28</td>\n",
       "      <td>0.030171</td>\n",
       "      <td>0.033533</td>\n",
       "    </tr>\n",
       "    <tr>\n",
       "      <th>28</th>\n",
       "      <td>2019-08-29</td>\n",
       "      <td>0.030433</td>\n",
       "      <td>0.033657</td>\n",
       "    </tr>\n",
       "    <tr>\n",
       "      <th>29</th>\n",
       "      <td>2019-08-30</td>\n",
       "      <td>0.030216</td>\n",
       "      <td>0.034070</td>\n",
       "    </tr>\n",
       "    <tr>\n",
       "      <th>30</th>\n",
       "      <td>2019-08-31</td>\n",
       "      <td>0.029729</td>\n",
       "      <td>0.033834</td>\n",
       "    </tr>\n",
       "  </tbody>\n",
       "</table>\n",
       "</div>"
      ],
      "text/plain": [
       "         date  conversionA  conversionB\n",
       "0  2019-08-01     0.033380     0.029453\n",
       "1  2019-08-02     0.032885     0.034776\n",
       "2  2019-08-03     0.036856     0.033833\n",
       "3  2019-08-04     0.032787     0.030315\n",
       "4  2019-08-05     0.032851     0.030793\n",
       "5  2019-08-06     0.031870     0.032783\n",
       "6  2019-08-07     0.031324     0.032946\n",
       "7  2019-08-08     0.030731     0.033975\n",
       "8  2019-08-09     0.030225     0.034699\n",
       "9  2019-08-10     0.030821     0.036323\n",
       "10 2019-08-11     0.029513     0.034438\n",
       "11 2019-08-12     0.030363     0.035009\n",
       "12 2019-08-13     0.029316     0.034296\n",
       "13 2019-08-14     0.029587     0.034011\n",
       "14 2019-08-15     0.029217     0.035312\n",
       "15 2019-08-16     0.029959     0.035853\n",
       "16 2019-08-17     0.029735     0.035749\n",
       "17 2019-08-18     0.029478     0.034196\n",
       "18 2019-08-19     0.030097     0.034569\n",
       "19 2019-08-20     0.029662     0.034621\n",
       "20 2019-08-21     0.029961     0.033944\n",
       "21 2019-08-22     0.029794     0.034161\n",
       "22 2019-08-23     0.030588     0.033902\n",
       "23 2019-08-24     0.030792     0.034122\n",
       "24 2019-08-25     0.030181     0.033516\n",
       "25 2019-08-26     0.029812     0.033664\n",
       "26 2019-08-27     0.030227     0.033166\n",
       "27 2019-08-28     0.030171     0.033533\n",
       "28 2019-08-29     0.030433     0.033657\n",
       "29 2019-08-30     0.030216     0.034070\n",
       "30 2019-08-31     0.029729     0.033834"
      ]
     },
     "execution_count": 27,
     "metadata": {},
     "output_type": "execute_result"
    }
   ],
   "source": [
    "mergedCumulativeConversions = cumulativeDataA[['date','conversion']].merge(cumulativeDataB[['date','conversion']], left_on='date', right_on='date', how='left', suffixes=['A', 'B'])\n",
    "\n",
    "mergedCumulativeConversions"
   ]
  },
  {
   "cell_type": "code",
   "execution_count": 28,
   "metadata": {},
   "outputs": [
    {
     "data": {
      "text/plain": [
       "Text(0.5, 0.9, 'Относительный прирост конверсии группы B относительно группы A')"
      ]
     },
     "execution_count": 28,
     "metadata": {},
     "output_type": "execute_result"
    },
    {
     "data": {
      "image/png": "[encoded data removed]",
      "text/plain": [
       "<Figure size 1080x360 with 1 Axes>"
      ]
     },
     "metadata": {
      "needs_background": "light"
     },
     "output_type": "display_data"
    }
   ],
   "source": [
    "#строим график\n",
    "plt.figure(figsize=(15,5))\n",
    "\n",
    "plt.plot(mergedCumulativeConversions['date'], mergedCumulativeConversions['conversionB']/mergedCumulativeConversions['conversionA']-1)\n",
    "#plt.legend()\n",
    "\n",
    "\n",
    "plt.axhline(y=0, color='black', linestyle='--')\n",
    "plt.axhline(y=0.2, color='grey', linestyle='--')\n",
    "plt.axhline(y=0.1, color='grey', linestyle='--')\n",
    "plt.axhline(y=0.05, color='grey', linestyle='--')\n",
    "plt.xlabel('Период')\n",
    "plt.figtext(.5,.9,'Относительный прирост конверсии группы B относительно группы A', fontsize=12, ha='center')\n",
    "#plt.axis([\"2019-08-01\", '2019-08-31', -0.5, 0.5])"
   ]
  },
  {
   "cell_type": "markdown",
   "metadata": {},
   "source": [
    "- В начале теста группа B сильно уступала группе A, правда, в один из дней вырывалась вперед до 5%. После 6 августа группа В окончательно уходит вперёд. Разница растет до 17%, падает до 10%, но в данный момент снова идет прирост. Колебания разницы от 10 до 20%. В целом отношение конверсии не выглядит установившимся, и сейчас делать какие-либо выводы по тесту нельзя. Нужно проанализировать аномалии. "
   ]
  },
  {
   "cell_type": "markdown",
   "metadata": {},
   "source": [
    "### Постройте точечный график количества заказов по пользователям. Сделайте выводы и предположения."
   ]
  },
  {
   "cell_type": "markdown",
   "metadata": {},
   "source": [
    "-  Создадим из таблицы **orders** датафрейм **ordersByUsers** c двумя столбцами: 'userId' и 'orders' и получим число заказов по пользователям."
   ]
  },
  {
   "cell_type": "code",
   "execution_count": 29,
   "metadata": {},
   "outputs": [
    {
     "name": "stdout",
     "output_type": "stream",
     "text": [
      "          userId  orders\n",
      "1023  4256040402      11\n",
      "591   2458001652      11\n",
      "569   2378935119       9\n",
      "487   2038680547       8\n",
      "44     199603092       5\n",
      "744   3062433592       5\n",
      "55     237748145       5\n",
      "917   3803269165       5\n",
      "299   1230306981       5\n",
      "897   3717692402       5\n"
     ]
    }
   ],
   "source": [
    "ordersByUsers = (\n",
    "    orders.groupby('visitorId', as_index=False)\n",
    "    .agg({'transactionId': 'nunique'})\n",
    ")\n",
    "\n",
    "ordersByUsers.columns = ['userId', 'orders']\n",
    "\n",
    "print(ordersByUsers.sort_values(by='orders', ascending=False).head(10)) "
   ]
  },
  {
   "cell_type": "code",
   "execution_count": 30,
   "metadata": {},
   "outputs": [
    {
     "data": {
      "text/plain": [
       "Text(0.5, 0.9, 'точечный график количества заказов')"
      ]
     },
     "execution_count": 30,
     "metadata": {},
     "output_type": "execute_result"
    },
    {
     "data": {
      "image/png": "[encoded data removed]",
      "text/plain": [
       "<Figure size 360x576 with 1 Axes>"
      ]
     },
     "metadata": {
      "needs_background": "light"
     },
     "output_type": "display_data"
    }
   ],
   "source": [
    "#строим точечный графиц\n",
    "x_values = pd.Series(range(0, len(ordersByUsers)))\n",
    "\n",
    "x_values = pd.Series(range(0,len(ordersByUsers)))\n",
    "plt.figure(figsize=(5,8))\n",
    "plt.scatter(x_values, ordersByUsers['orders']) \n",
    "plt.xlabel('Количество пользователей')\n",
    "plt.ylabel('Количество заказов')\n",
    "plt.figtext(.5,.9,'точечный график количества заказов', fontsize=12, ha='center')"
   ]
  },
  {
   "cell_type": "markdown",
   "metadata": {},
   "source": [
    "- Пользователей, заказавших 2 и более заказов, не много. Нужно считать и смотреть перцентили, чтобы решить, какое количество заказов можно засчитатать за аномальные."
   ]
  },
  {
   "cell_type": "markdown",
   "metadata": {},
   "source": [
    "### Посчитайте 95-й и 99-й перцентили количества заказов на пользователя. Выберите границу для определения аномальных пользователей."
   ]
  },
  {
   "cell_type": "code",
   "execution_count": 31,
   "metadata": {},
   "outputs": [
    {
     "name": "stdout",
     "output_type": "stream",
     "text": [
      "[1. 2. 4.]\n"
     ]
    }
   ],
   "source": [
    "print(np.percentile(ordersByUsers['orders'], [90, 95, 99])) "
   ]
  },
  {
   "cell_type": "markdown",
   "metadata": {},
   "source": [
    "- Не более 5% пользователей делали больше 2 заказов, и не больше 1% пользователей делали больше 4 заказов."
   ]
  },
  {
   "cell_type": "markdown",
   "metadata": {},
   "source": [
    "### Постройте точечный график стоимостей заказов. Сделайте выводы и предположения."
   ]
  },
  {
   "cell_type": "code",
   "execution_count": 32,
   "metadata": {},
   "outputs": [
    {
     "name": "stdout",
     "output_type": "stream",
     "text": [
      "      transactionId   visitorId       date  revenue group\n",
      "425       590470918  1920142716 2019-08-19  1294500     B\n",
      "1196     3936777065  2108080724 2019-08-15   202740     B\n",
      "858       192721366  1316129916 2019-08-27    93940     A\n",
      "1136      666610489  1307669133 2019-08-13    92550     A\n",
      "744      3668308183   888512513 2019-08-27    86620     B\n",
      "682      1216533772  4266935830 2019-08-29    78990     B\n",
      "662      1811671147  4266935830 2019-08-29    78990     A\n",
      "743      3603576309  4133034833 2019-08-09    67990     A\n",
      "1103     1348774318  1164614297 2019-08-12    66350     A\n",
      "1099      316924019   148427295 2019-08-12    65710     A\n"
     ]
    },
    {
     "data": {
      "text/plain": [
       "Text(0.5, 0.9, 'точечный график стоимостей заказов')"
      ]
     },
     "execution_count": 32,
     "metadata": {},
     "output_type": "execute_result"
    },
    {
     "data": {
      "image/png": "[encoded data removed]",
      "text/plain": [
       "<Figure size 360x576 with 1 Axes>"
      ]
     },
     "metadata": {
      "needs_background": "light"
     },
     "output_type": "display_data"
    }
   ],
   "source": [
    "print(orders.sort_values(by='revenue', ascending=False).head(10))\n",
    "x_values = pd.Series(range(0, len(orders['revenue'])))\n",
    "plt.figure(figsize=(5,8))\n",
    "plt.scatter(x_values, orders['revenue']) \n",
    "plt.xlabel('Количество пользователей')\n",
    "plt.ylabel('Стоимость заказов, млн руб')\n",
    "plt.figtext(.5,.9,'точечный график стоимостей заказов', fontsize=12, ha='center')\n"
   ]
  },
  {
   "cell_type": "markdown",
   "metadata": {},
   "source": [
    "- Визуально выделяются два заказа. Один больше 1 200 000, один около 200 000р.Основная масса заказов в пределах 100 000р. Опять нужно воспользоваться перцентилями."
   ]
  },
  {
   "cell_type": "code",
   "execution_count": 37,
   "metadata": {},
   "outputs": [
    {
     "data": {
      "text/plain": [
       "(0.0, 200000.0)"
      ]
     },
     "execution_count": 37,
     "metadata": {},
     "output_type": "execute_result"
    },
    {
     "data": {
      "image/png": "[encoded data removed]",
      "text/plain": [
       "<Figure size 360x576 with 1 Axes>"
      ]
     },
     "metadata": {
      "needs_background": "light"
     },
     "output_type": "display_data"
    }
   ],
   "source": [
    "# код ревьюера\n",
    "plt.figure(figsize=(5,8))\n",
    "plt.scatter(x_values, orders['revenue']) \n",
    "plt.xlabel('Количество пользователей')\n",
    "plt.ylabel('Стоимость заказов, млн руб')\n",
    "plt.figtext(.5,.9,'точечный график стоимостей заказов', fontsize=12, ha='center')\n",
    "plt.ylim(0,200000)"
   ]
  },
  {
   "cell_type": "markdown",
   "metadata": {},
   "source": [
    "### Посчитайте 95-й и 99-й перцентили стоимости заказов. Выберите границу для определения аномальных заказов."
   ]
  },
  {
   "cell_type": "code",
   "execution_count": 32,
   "metadata": {},
   "outputs": [
    {
     "name": "stdout",
     "output_type": "stream",
     "text": [
      "[18168.  28000.  58233.2]\n"
     ]
    }
   ],
   "source": [
    "print(np.percentile(orders['revenue'], [90, 95, 99])) "
   ]
  },
  {
   "cell_type": "markdown",
   "metadata": {},
   "source": [
    "- Не более 5% заказов на сумму 28 000р, и не больше 1% заказов на сумму 58 233р. "
   ]
  },
  {
   "cell_type": "markdown",
   "metadata": {},
   "source": [
    "### Посчитайте статистическую значимость различий в конверсии между группами по «сырым» данным. Сделайте выводы и предположения."
   ]
  },
  {
   "cell_type": "markdown",
   "metadata": {},
   "source": [
    "- Создаем переменные **ordersByUsersA** и **ordersByUsersB** со столбцами ['userId', 'orders'], где для пользователей, совершивших хотя бы 1 заказ, будет указано число заказов.\n",
    "\n",
    "- Сразу сформулируем гипотезы. Нулевая: различий в конверсии между группами нет. Альтернативная: различия в конверсии между группами есть."
   ]
  },
  {
   "cell_type": "code",
   "execution_count": 33,
   "metadata": {},
   "outputs": [],
   "source": [
    "visitorsADaily = visitors[visitors['group'] == 'A'][['date', 'visitors']]\n",
    "visitorsADaily.columns = ['date', 'visitorsPerDateA']\n",
    "\n",
    "\n",
    "visitorsACummulative = visitorsADaily.apply(\n",
    "    lambda x: visitorsADaily[visitorsADaily['date'] <= x['date']].agg(\n",
    "        {'date': 'max', 'visitorsPerDateA': 'sum'}\n",
    "    ),\n",
    "    axis=1,\n",
    ")\n",
    "visitorsACummulative.columns = ['date', 'visitorsCummulativeA']\n",
    "\n",
    "visitorsBDaily = visitors[visitors['group'] == 'B'][['date', 'visitors']]\n",
    "visitorsBDaily.columns = ['date', 'visitorsPerDateB']\n",
    "\n",
    "visitorsBCummulative = visitorsBDaily.apply(\n",
    "    lambda x: visitorsBDaily[visitorsBDaily['date'] <= x['date']].agg(\n",
    "        {'date': 'max', 'visitorsPerDateB': 'sum'}\n",
    "    ),\n",
    "    axis=1,\n",
    ")\n",
    "visitorsBCummulative.columns = ['date', 'visitorsCummulativeB']\n",
    "\n",
    "ordersADaily = (\n",
    "    orders[orders['group'] == 'A'][['date', 'transactionId', 'visitorId', 'revenue']]\n",
    "    .groupby('date', as_index=False)\n",
    "    .agg({'transactionId': pd.Series.nunique, 'revenue': 'sum'})\n",
    ")\n",
    "ordersADaily.columns = ['date', 'ordersPerDateA', 'revenuePerDateA']\n",
    "\n",
    "ordersACummulative = ordersADaily.apply(\n",
    "    lambda x: ordersADaily[ordersADaily['date'] <= x['date']].agg(\n",
    "        {'date': 'max', 'ordersPerDateA': 'sum', 'revenuePerDateA': 'sum'}\n",
    "    ),\n",
    "    axis=1,\n",
    ").sort_values(by=['date'])\n",
    "ordersACummulative.columns = [\n",
    "    'date',\n",
    "    'ordersCummulativeA',\n",
    "    'revenueCummulativeA',\n",
    "]\n",
    "\n",
    "ordersBDaily = (\n",
    "    orders[orders['group'] == 'B'][['date', 'transactionId', 'visitorId', 'revenue']]\n",
    "    .groupby('date', as_index=False)\n",
    "    .agg({'transactionId': pd.Series.nunique, 'revenue': 'sum'})\n",
    ")\n",
    "ordersBDaily.columns = ['date', 'ordersPerDateB', 'revenuePerDateB']\n",
    "\n",
    "ordersBCummulative = ordersBDaily.apply(\n",
    "    lambda x: ordersBDaily[ordersBDaily['date'] <= x['date']].agg(\n",
    "        {'date': 'max', 'ordersPerDateB': 'sum', 'revenuePerDateB': 'sum'}\n",
    "    ),\n",
    "    axis=1,\n",
    ").sort_values(by=['date'])\n",
    "ordersBCummulative.columns = [\n",
    "    'date',\n",
    "    'ordersCummulativeB',\n",
    "    'revenueCummulativeB',\n",
    "]\n",
    "\n",
    "data = (\n",
    "    ordersADaily.merge(\n",
    "        ordersBDaily, left_on='date', right_on='date', how='left'\n",
    "    )\n",
    "    .merge(ordersACummulative, left_on='date', right_on='date', how='left')\n",
    "    .merge(ordersBCummulative, left_on='date', right_on='date', how='left')\n",
    "    .merge(visitorsADaily, left_on='date', right_on='date', how='left')\n",
    "    .merge(visitorsBDaily, left_on='date', right_on='date', how='left')\n",
    "    .merge(visitorsACummulative, left_on='date', right_on='date', how='left')\n",
    "    .merge(visitorsBCummulative, left_on='date', right_on='date', how='left')\n",
    ")"
   ]
  },
  {
   "cell_type": "markdown",
   "metadata": {},
   "source": [
    "- Переходим к созданию переменных **ordersByUsersA** и **ordersByUsersB**."
   ]
  },
  {
   "cell_type": "code",
   "execution_count": 34,
   "metadata": {},
   "outputs": [],
   "source": [
    "ordersByUsersA = (\n",
    "    orders[orders['group'] == 'A']\n",
    "    .groupby('visitorId', as_index=False)\n",
    "    .agg({'transactionId': pd.Series.nunique})\n",
    ")\n",
    "ordersByUsersA.columns = ['userId', 'orders']\n",
    "\n",
    "ordersByUsersB = (\n",
    "    orders[orders['group'] == 'B']\n",
    "    .groupby('visitorId', as_index=False)\n",
    "    .agg({'transactionId': pd.Series.nunique})\n",
    ")\n",
    "ordersByUsersB.columns = ['userId', 'orders'] "
   ]
  },
  {
   "cell_type": "markdown",
   "metadata": {},
   "source": [
    "- Создаем переменные sampleA и sampleB, в которых пользователям из разных групп будет соответствовать количество заказов. Тем, кто ничего не заказал, будут соответствовать нули. Это нужно, чтобы подготовить выборки к проверке критерием Манна-Уитни.\n",
    "- Применим критерий и отформатируем p-value.\n",
    "- Выведем относительный прирост конверсии группы B: конверсия группы B / конверсия группы A - 1. "
   ]
  },
  {
   "cell_type": "code",
   "execution_count": 58,
   "metadata": {},
   "outputs": [
    {
     "name": "stdout",
     "output_type": "stream",
     "text": [
      "p_value= 0.017\n",
      "Отвергаем нулевую гипотезу\n",
      "Относительный выигрыш группы B: 0.138\n"
     ]
    }
   ],
   "source": [
    "sampleA = pd.concat([ordersByUsersA['orders'],pd.Series(0, index=np.arange(data['visitorsPerDateA'].sum() - len(ordersByUsersA['orders'])), name='orders')],axis=0)\n",
    "sampleB = pd.concat([ordersByUsersB['orders'],pd.Series(0, index=np.arange(data['visitorsPerDateB'].sum() - len(ordersByUsersB['orders'])), name='orders')],axis=0)\n",
    "#print(\"{0:.3f}\".format(stats.mannwhitneyu(sampleA, sampleB)[1]))\n",
    "#print(\"{0:.3f}\".format(sampleB.mean() / sampleA.mean() - 1))\n",
    "alpha=0.05\n",
    "p_value_conversion_before=round(stats.mannwhitneyu(sampleA, sampleB)[1], 3)\n",
    "print('p_value=', p_value_conversion_before)\n",
    "if (p_value_conversion_before < alpha):\n",
    "    print(\"Отвергаем нулевую гипотезу\")\n",
    "else:\n",
    "    print(\"Не получилось отвергнуть нулевую гипотезу\")\n",
    "    \n",
    "win_conversion_before= round(sampleB.mean() / sampleA.mean() - 1, 3)   \n",
    "print('Относительный выигрыш группы B:', win_conversion_before)"
   ]
  },
  {
   "cell_type": "markdown",
   "metadata": {},
   "source": [
    "- p-value = 0.017 и оно меньше 0.05. Значит, нулевую гипотезу о том, что статистически значимых различий в конверсии между группами нет, отвергаем. \n",
    "- Относительный выигрыш группы B равен 13.8%"
   ]
  },
  {
   "cell_type": "markdown",
   "metadata": {},
   "source": [
    "### Посчитайте статистическую значимость различий в среднем чеке заказа между группами по «сырым» данным. Сделайте выводы и предположения."
   ]
  },
  {
   "cell_type": "markdown",
   "metadata": {},
   "source": [
    "- Нулевая гипотеза: различий в среднем чеке между группами нет. Альтернативная гипотеза: различия в среднем чеке между группами есть."
   ]
  },
  {
   "cell_type": "code",
   "execution_count": 57,
   "metadata": {},
   "outputs": [
    {
     "name": "stdout",
     "output_type": "stream",
     "text": [
      "p_value= 0.729\n",
      "Не получилось отвергнуть нулевую гипотезу\n",
      "Относительный выигрыш группы B: 0.259\n"
     ]
    }
   ],
   "source": [
    "#print('{0:.3f}'.format(stats.mannwhitneyu(orders[orders['group']=='A']['revenue'], orders[orders['group']=='B']['revenue'])[1]))\n",
    "#print('{0:.3f}'.format(orders[orders['group']=='B']['revenue'].mean()/orders[orders['group']=='A']['revenue'].mean()-1))\n",
    "\n",
    "\n",
    "alpha=0.05\n",
    "p_value_cost_before =round(stats.mannwhitneyu(orders[orders['group']=='A']['revenue'], orders[orders['group']=='B']['revenue'])[1], 3)\n",
    "print('p_value=', p_value_cost_before)\n",
    "if (p_value_cost_before < alpha):\n",
    "    print(\"Отвергаем нулевую гипотезу\")\n",
    "else:\n",
    "    print(\"Не получилось отвергнуть нулевую гипотезу\")\n",
    "    \n",
    "    \n",
    "\n",
    "win_cost_before=round(orders[orders['group']=='B']['revenue'].mean()/orders[orders['group']=='A']['revenue'].mean()-1, 3)\n",
    "print('Относительный выигрыш группы B:', win_cost_before)"
   ]
  },
  {
   "cell_type": "markdown",
   "metadata": {},
   "source": [
    "- р-value значительно больше 0.05. Значит, нулевую гипотезу не отвергаем. \n",
    "- средний чек группы B больше среднего чека группы A, разница в 25%."
   ]
  },
  {
   "cell_type": "markdown",
   "metadata": {},
   "source": [
    "### Посчитайте статистическую значимость различий в конверсии между группами по «очищенным» данным. Сделайте выводы и предположения."
   ]
  },
  {
   "cell_type": "markdown",
   "metadata": {},
   "source": [
    "- 95-й и 99-й перцентили средних чеков - **28 000р и 58 233р**. \n",
    "- 95-й и 99-й перцентили количества заказов на одного пользователя - **2 и 4** заказа.\n",
    "- Примем за аномальных пользователей тех, кто совершил от 4 заказов или совершил заказ дороже 28 000 рублей. Так мы уберём 5% пользователей с наибольшим числом заказов и от 1% до 5% пользователей с дорогими заказами. Сделаем срезы пользователей с числом заказов больше **2** — **usersWithManyOrders** и пользователей, совершивших заказы дороже **28 000** — **usersWithExpensiveOrders**. Объединим их в таблице **abnormalUsers**.\n",
    "\n",
    "- Гипотезы по-прежнему: нулевая: различий в конверсии между группами нет. Альтернативная: различия в конверсии между группами есть."
   ]
  },
  {
   "cell_type": "code",
   "execution_count": 64,
   "metadata": {},
   "outputs": [
    {
     "name": "stdout",
     "output_type": "stream",
     "text": [
      "1099    148427295\n",
      "18      199603092\n",
      "928     204675465\n",
      "23      237748145\n",
      "37      249864742\n",
      "dtype: int64\n",
      "(74,)\n"
     ]
    }
   ],
   "source": [
    "#запишем заказы и сумму в переменные\n",
    "too_many_orders=2\n",
    "too_much_cost=28000\n",
    "\n",
    "\n",
    "usersWithManyOrders = pd.concat(\n",
    "    [\n",
    "        ordersByUsersA[ordersByUsersA['orders'] > too_many_orders]['userId'],\n",
    "        ordersByUsersB[ordersByUsersB['orders'] > too_many_orders]['userId'],\n",
    "    ],\n",
    "    axis=0,\n",
    ")\n",
    "usersWithExpensiveOrders = orders[orders['revenue'] > too_much_cost]['visitorId']\n",
    "abnormalUsers = (\n",
    "    pd.concat([usersWithManyOrders, usersWithExpensiveOrders], axis=0)\n",
    "    .drop_duplicates()\n",
    "    .sort_values()\n",
    ")\n",
    "print(abnormalUsers.head(5))\n",
    "print(abnormalUsers.shape)"
   ]
  },
  {
   "cell_type": "code",
   "execution_count": 42,
   "metadata": {},
   "outputs": [
    {
     "data": {
      "text/plain": [
       "28000"
      ]
     },
     "execution_count": 42,
     "metadata": {},
     "output_type": "execute_result"
    }
   ],
   "source": [
    "# код ревьюера\n",
    "round(np.percentile(orders['revenue'], [95])[0])"
   ]
  },
  {
   "cell_type": "markdown",
   "metadata": {},
   "source": [
    "- Всего 74 аномальных пользователя."
   ]
  },
  {
   "cell_type": "markdown",
   "metadata": {},
   "source": [
    "- В переменные **sampleAFiltere** и **sampleBFiltered** запишем \"очищенные\" от аномальных пользователей данные."
   ]
  },
  {
   "cell_type": "code",
   "execution_count": 38,
   "metadata": {},
   "outputs": [],
   "source": [
    "sampleAFiltered = pd.concat(\n",
    "    [\n",
    "        ordersByUsersA[\n",
    "            np.logical_not(ordersByUsersA['userId'].isin(abnormalUsers))\n",
    "        ]['orders'],\n",
    "        pd.Series(\n",
    "            0,\n",
    "            index=np.arange(\n",
    "                data['visitorsPerDateA'].sum() - len(ordersByUsersA['orders'])\n",
    "            ),\n",
    "            name='orders',\n",
    "        ),\n",
    "    ],\n",
    "    axis=0,\n",
    ")\n",
    "\n",
    "sampleBFiltered = pd.concat(\n",
    "    [\n",
    "        ordersByUsersB[\n",
    "            np.logical_not(ordersByUsersB['userId'].isin(abnormalUsers))\n",
    "        ]['orders'],\n",
    "        pd.Series(\n",
    "            0,\n",
    "            index=np.arange(\n",
    "                data['visitorsPerDateB'].sum() - len(ordersByUsersB['orders'])\n",
    "            ),\n",
    "            name='orders',\n",
    "        ),\n",
    "    ],\n",
    "    axis=0,\n",
    ") "
   ]
  },
  {
   "cell_type": "markdown",
   "metadata": {},
   "source": [
    "- Применим статистический критерий Манна-Уитни к полученным данным:"
   ]
  },
  {
   "cell_type": "code",
   "execution_count": 65,
   "metadata": {},
   "outputs": [
    {
     "name": "stdout",
     "output_type": "stream",
     "text": [
      "По сырым данным было: p-value= 0.017 , относительный выигрыш группы B: 0.138\n",
      "Результат по очищенным данным:\n",
      "p_value= 0.013\n",
      "Отвергаем нулевую гипотезу\n",
      "Относительный выигрыш группы B: 0.173\n"
     ]
    }
   ],
   "source": [
    "print('По сырым данным было: p-value=', p_value_conversion_before, ',', 'относительный выигрыш группы B:', win_conversion_before)\n",
    "print('Результат по очищенным данным:')\n",
    "#print('{0:.3f}'.format(stats.mannwhitneyu(sampleAFiltered, sampleBFiltered)[1]))\n",
    "#print('{0:.3f}'.format(sampleBFiltered.mean()/sampleAFiltered.mean()-1)) \n",
    "\n",
    "p_value_conversion_after =round(stats.mannwhitneyu(sampleAFiltered, sampleBFiltered)[1], 3)\n",
    "win_conversion_after =round(sampleBFiltered.mean()/sampleAFiltered.mean()-1, 3)\n",
    "\n",
    "alpha=0.05\n",
    "\n",
    "print('p_value=', p_value_conversion_after)\n",
    "if (p_value_conversion_after < alpha):\n",
    "    print(\"Отвергаем нулевую гипотезу\")\n",
    "else:\n",
    "    print(\"Не получилось отвергнуть нулевую гипотезу\")\n",
    "    \n",
    "print('Относительный выигрыш группы B:', win_conversion_after)\n"
   ]
  },
  {
   "cell_type": "markdown",
   "metadata": {},
   "source": [
    "- p-value = 0.013 и он опять меньше 0.05. Значит, нулевую гипотезу о том, что статистически значимых различий в конверсии между группами нет, отвергаем. \n",
    "- Относительный выигрыш группы B немного вырос, теперь он равен 17.3%"
   ]
  },
  {
   "cell_type": "markdown",
   "metadata": {},
   "source": [
    "### Посчитайте статистическую значимость различий в среднем чеке заказа между группами по «очищенным» данным. Сделайте выводы и предположения."
   ]
  },
  {
   "cell_type": "markdown",
   "metadata": {},
   "source": [
    "- По-прежнему нулевая гипотеза: различий в среднем чеке между группами нет. Альтернативная гипотеза: различия в среднем чеке между группами есть."
   ]
  },
  {
   "cell_type": "code",
   "execution_count": 67,
   "metadata": {},
   "outputs": [
    {
     "name": "stdout",
     "output_type": "stream",
     "text": [
      "По сырым данным было: p-value= 0.729 , относительный выигрыш группы B: 0.259\n",
      "Результат по очищенным данным:\n",
      "p_value= 0.738\n",
      "Не получилось отвергнуть нулевую гипотезу\n",
      "Относительный выигрыш группы B: -0.02\n"
     ]
    }
   ],
   "source": [
    "print('По сырым данным было: p-value=', p_value_cost_before,',', 'относительный выигрыш группы B:', win_cost_before)\n",
    "print('Результат по очищенным данным:')\n",
    "\n",
    "\n",
    "p_value_cost_after =round(stats.mannwhitneyu(\n",
    "            orders[\n",
    "                np.logical_and(\n",
    "                    orders['group'] == 'A',\n",
    "                    np.logical_not(orders['visitorId'].isin(abnormalUsers)),\n",
    "                )\n",
    "            ]['revenue'],\n",
    "            orders[\n",
    "                np.logical_and(\n",
    "                    orders['group'] == 'B',\n",
    "                    np.logical_not(orders['visitorId'].isin(abnormalUsers)),\n",
    "                )\n",
    "            ]['revenue'],\n",
    "        )[1], 3)\n",
    "win_cost_after =round(orders[\n",
    "            np.logical_and(\n",
    "                orders['group'] == 'B',\n",
    "                np.logical_not(orders['visitorId'].isin(abnormalUsers)),\n",
    "            )\n",
    "        ]['revenue'].mean()\n",
    "        / orders[\n",
    "            np.logical_and(\n",
    "                orders['group'] == 'A',\n",
    "                np.logical_not(orders['visitorId'].isin(abnormalUsers)),\n",
    "            )\n",
    "        ]['revenue'].mean()\n",
    "        - 1, 3)\n",
    "\n",
    "alpha=0.05\n",
    "\n",
    "print('p_value=', p_value_cost_after)\n",
    "if (p_value_cost_after < alpha):\n",
    "    print(\"Отвергаем нулевую гипотезу\")\n",
    "else:\n",
    "    print(\"Не получилось отвергнуть нулевую гипотезу\")\n",
    "    \n",
    "print('Относительный выигрыш группы B:', win_cost_after)\n"
   ]
  },
  {
   "cell_type": "markdown",
   "metadata": {},
   "source": [
    "- р-value опять больше 0.05 и увеличился. Значит, нулевую гипотезу не отвергаем. \n",
    "- а вот разница среднего чека группы B и группы A после исключения аномалий сократилась, она стала 2%, только теперь в пользу группы А."
   ]
  },
  {
   "cell_type": "markdown",
   "metadata": {},
   "source": [
    "### Примите решение по результатам теста и объясните его. Варианты решений: 1. Остановить тест, зафиксировать победу одной из групп. 2. Остановить тест, зафиксировать отсутствие различий между группами. 3. Продолжить тест."
   ]
  },
  {
   "cell_type": "markdown",
   "metadata": {},
   "source": [
    "- По \"сырым\" данным гипотезу **\"различий в конверсии между группами нет\"** отвергли. Вывод - разница в конверсиях есть.\n",
    "- По \"очищенным\" данным гипотезу **\"различий в конверсии между группами нет\"** также отвергли. Различия в конверсиях есть.\n",
    "\n",
    "\n",
    "- По \"сырым\" данным гипотезу **\"различий в среднем чеке между группами нет\"** отвергнуть не смогли. Не можем сделать вывод о различии средних чеков.\n",
    "- По \"очищенным\" данным гипотезу **\"различий в среднем чеке между группами нет\"**  тоже отвергнуть не смогли. Не можем сделать вывод о различии средних чеков.\n",
    "- По графику различия среднего чека группа В была стабильным лидером при \"неочищенных\" данных. Правда, после удаления выбросов чеки, можно сказать, сравнялись. \n",
    "- А вот по графику относительного прироста конверсии группы B относительно группы A, группа В за несколько дней выходит вперед и сохраняет лидерство до конца периода. Группа В хорошо конвертирует пользователей, несмотря на средний чек.\n",
    "- Вывод: 1. Остановить тест, зафиксировать победу одной из групп --> **тест можно остановить и признать группу В победителем.**"
   ]
  }
 ],
 "metadata": {
  "ExecuteTimeLog": [
   {
    "duration": 1254,
    "start_time": "2022-03-30T13:41:49.497Z"
   },
   {
    "duration": 69,
    "start_time": "2022-03-30T13:56:55.850Z"
   },
   {
    "duration": 1765,
    "start_time": "2022-03-30T13:57:03.005Z"
   },
   {
    "duration": 41,
    "start_time": "2022-03-30T13:57:06.080Z"
   },
   {
    "duration": 27,
    "start_time": "2022-03-30T13:57:23.102Z"
   },
   {
    "duration": 6,
    "start_time": "2022-03-30T14:01:56.325Z"
   },
   {
    "duration": 17,
    "start_time": "2022-03-30T14:04:08.514Z"
   },
   {
    "duration": 145,
    "start_time": "2022-03-30T14:09:34.445Z"
   },
   {
    "duration": 13,
    "start_time": "2022-03-30T14:09:46.996Z"
   },
   {
    "duration": 71,
    "start_time": "2022-03-30T14:11:45.211Z"
   },
   {
    "duration": 16,
    "start_time": "2022-03-30T14:11:58.636Z"
   },
   {
    "duration": 16,
    "start_time": "2022-03-30T14:12:12.805Z"
   },
   {
    "duration": 21,
    "start_time": "2022-03-30T14:12:32.525Z"
   },
   {
    "duration": 18,
    "start_time": "2022-03-30T14:13:23.400Z"
   },
   {
    "duration": 19,
    "start_time": "2022-03-30T14:13:41.401Z"
   },
   {
    "duration": 217,
    "start_time": "2022-03-30T14:20:57.969Z"
   },
   {
    "duration": 14,
    "start_time": "2022-03-30T14:21:21.881Z"
   },
   {
    "duration": 6,
    "start_time": "2022-03-30T14:29:24.536Z"
   },
   {
    "duration": 14,
    "start_time": "2022-03-30T14:29:51.371Z"
   },
   {
    "duration": 17,
    "start_time": "2022-03-30T14:30:02.701Z"
   },
   {
    "duration": 19,
    "start_time": "2022-03-30T14:30:13.598Z"
   },
   {
    "duration": 19,
    "start_time": "2022-03-30T14:30:33.175Z"
   },
   {
    "duration": 25,
    "start_time": "2022-03-30T14:30:42.545Z"
   },
   {
    "duration": 18,
    "start_time": "2022-03-30T14:34:50.589Z"
   },
   {
    "duration": 18,
    "start_time": "2022-03-30T14:35:13.229Z"
   },
   {
    "duration": 16,
    "start_time": "2022-03-30T14:36:16.514Z"
   },
   {
    "duration": 13,
    "start_time": "2022-03-30T14:37:19.067Z"
   },
   {
    "duration": 13,
    "start_time": "2022-03-30T14:37:29.781Z"
   },
   {
    "duration": 15,
    "start_time": "2022-03-30T14:38:52.336Z"
   },
   {
    "duration": 220,
    "start_time": "2022-03-30T14:39:12.673Z"
   },
   {
    "duration": 15,
    "start_time": "2022-03-30T14:39:18.290Z"
   },
   {
    "duration": 12,
    "start_time": "2022-03-30T14:39:55.411Z"
   },
   {
    "duration": 11,
    "start_time": "2022-03-30T14:40:02.828Z"
   },
   {
    "duration": 13,
    "start_time": "2022-03-30T14:41:55.171Z"
   },
   {
    "duration": 16,
    "start_time": "2022-03-30T14:47:06.071Z"
   },
   {
    "duration": 12,
    "start_time": "2022-03-30T14:49:49.795Z"
   },
   {
    "duration": 200,
    "start_time": "2022-03-30T14:52:45.700Z"
   },
   {
    "duration": 11,
    "start_time": "2022-03-30T14:53:10.270Z"
   },
   {
    "duration": 11,
    "start_time": "2022-03-30T14:53:36.627Z"
   },
   {
    "duration": 11,
    "start_time": "2022-03-30T14:53:51.734Z"
   },
   {
    "duration": 15,
    "start_time": "2022-03-30T14:54:03.218Z"
   },
   {
    "duration": 16,
    "start_time": "2022-03-30T14:54:22.993Z"
   },
   {
    "duration": 1481,
    "start_time": "2022-03-30T14:54:46.762Z"
   },
   {
    "duration": 43,
    "start_time": "2022-03-30T14:54:48.249Z"
   },
   {
    "duration": 4,
    "start_time": "2022-03-30T14:54:48.294Z"
   },
   {
    "duration": 18,
    "start_time": "2022-03-30T14:54:48.300Z"
   },
   {
    "duration": 24,
    "start_time": "2022-03-30T14:54:48.321Z"
   },
   {
    "duration": 12,
    "start_time": "2022-03-30T14:55:35.745Z"
   },
   {
    "duration": 54,
    "start_time": "2022-03-30T15:05:53.386Z"
   },
   {
    "duration": 60,
    "start_time": "2022-03-30T15:06:13.356Z"
   },
   {
    "duration": 150,
    "start_time": "2022-03-30T15:08:23.273Z"
   },
   {
    "duration": 32,
    "start_time": "2022-03-30T15:08:33.202Z"
   },
   {
    "duration": 55,
    "start_time": "2022-03-30T15:09:07.442Z"
   },
   {
    "duration": 19,
    "start_time": "2022-03-30T15:09:52.735Z"
   },
   {
    "duration": 46,
    "start_time": "2022-03-30T15:10:03.847Z"
   },
   {
    "duration": 804,
    "start_time": "2022-03-30T15:13:46.835Z"
   },
   {
    "duration": 25,
    "start_time": "2022-03-30T15:19:23.885Z"
   },
   {
    "duration": 868,
    "start_time": "2022-03-30T15:21:10.371Z"
   },
   {
    "duration": 1924,
    "start_time": "2022-03-30T15:21:23.186Z"
   },
   {
    "duration": 37,
    "start_time": "2022-03-30T15:21:25.113Z"
   },
   {
    "duration": 5,
    "start_time": "2022-03-30T15:21:25.152Z"
   },
   {
    "duration": 17,
    "start_time": "2022-03-30T15:21:25.160Z"
   },
   {
    "duration": 11,
    "start_time": "2022-03-30T15:21:25.178Z"
   },
   {
    "duration": 53,
    "start_time": "2022-03-30T15:21:25.191Z"
   },
   {
    "duration": 19,
    "start_time": "2022-03-30T15:21:25.246Z"
   },
   {
    "duration": 28,
    "start_time": "2022-03-30T15:21:25.267Z"
   },
   {
    "duration": 46,
    "start_time": "2022-03-30T15:21:25.298Z"
   },
   {
    "duration": 17,
    "start_time": "2022-03-30T15:23:12.081Z"
   },
   {
    "duration": 11,
    "start_time": "2022-03-30T15:24:25.541Z"
   },
   {
    "duration": 19,
    "start_time": "2022-03-30T15:29:54.575Z"
   },
   {
    "duration": 178,
    "start_time": "2022-03-30T15:32:49.274Z"
   },
   {
    "duration": 23,
    "start_time": "2022-03-30T15:34:54.030Z"
   },
   {
    "duration": 23,
    "start_time": "2022-03-30T15:34:59.662Z"
   },
   {
    "duration": 272,
    "start_time": "2022-03-30T15:44:48.190Z"
   },
   {
    "duration": 277,
    "start_time": "2022-03-30T15:46:11.491Z"
   },
   {
    "duration": 829,
    "start_time": "2022-03-30T15:46:15.353Z"
   },
   {
    "duration": 6,
    "start_time": "2022-03-30T15:47:37.606Z"
   },
   {
    "duration": 204,
    "start_time": "2022-03-30T15:47:55.786Z"
   },
   {
    "duration": 275,
    "start_time": "2022-03-30T15:49:24.876Z"
   },
   {
    "duration": 224,
    "start_time": "2022-03-30T15:49:35.253Z"
   },
   {
    "duration": 10,
    "start_time": "2022-03-30T15:53:25.545Z"
   },
   {
    "duration": 24,
    "start_time": "2022-03-30T15:53:34.457Z"
   },
   {
    "duration": 17,
    "start_time": "2022-03-30T15:57:31.358Z"
   },
   {
    "duration": 21,
    "start_time": "2022-03-30T15:57:43.847Z"
   },
   {
    "duration": 25,
    "start_time": "2022-03-30T15:58:22.609Z"
   },
   {
    "duration": 13,
    "start_time": "2022-03-30T15:58:32.274Z"
   },
   {
    "duration": 13,
    "start_time": "2022-03-30T15:59:09.195Z"
   },
   {
    "duration": 394,
    "start_time": "2022-03-30T15:59:39.757Z"
   },
   {
    "duration": 253,
    "start_time": "2022-03-30T16:04:15.371Z"
   },
   {
    "duration": 350,
    "start_time": "2022-03-30T16:12:54.492Z"
   },
   {
    "duration": 19,
    "start_time": "2022-03-30T16:22:16.484Z"
   },
   {
    "duration": 20,
    "start_time": "2022-03-30T16:23:07.639Z"
   },
   {
    "duration": 27,
    "start_time": "2022-03-30T16:27:52.239Z"
   },
   {
    "duration": 22,
    "start_time": "2022-03-30T16:28:12.164Z"
   },
   {
    "duration": 453,
    "start_time": "2022-03-30T16:28:31.719Z"
   },
   {
    "duration": 26,
    "start_time": "2022-03-30T16:29:55.958Z"
   },
   {
    "duration": 417,
    "start_time": "2022-03-30T16:32:06.846Z"
   },
   {
    "duration": 433,
    "start_time": "2022-03-30T16:33:06.329Z"
   },
   {
    "duration": 388,
    "start_time": "2022-03-30T16:33:20.569Z"
   },
   {
    "duration": 524,
    "start_time": "2022-03-30T16:33:42.339Z"
   },
   {
    "duration": 1298,
    "start_time": "2022-03-30T17:19:42.525Z"
   },
   {
    "duration": 25,
    "start_time": "2022-03-30T17:19:43.825Z"
   },
   {
    "duration": 3,
    "start_time": "2022-03-30T17:19:43.851Z"
   },
   {
    "duration": 15,
    "start_time": "2022-03-30T17:19:43.856Z"
   },
   {
    "duration": 9,
    "start_time": "2022-03-30T17:19:43.872Z"
   },
   {
    "duration": 26,
    "start_time": "2022-03-30T17:19:43.882Z"
   },
   {
    "duration": 14,
    "start_time": "2022-03-30T17:19:43.909Z"
   },
   {
    "duration": 19,
    "start_time": "2022-03-30T17:19:43.924Z"
   },
   {
    "duration": 19,
    "start_time": "2022-03-30T17:19:43.944Z"
   },
   {
    "duration": 11,
    "start_time": "2022-03-30T17:19:43.966Z"
   },
   {
    "duration": 10,
    "start_time": "2022-03-30T17:19:43.979Z"
   },
   {
    "duration": 17,
    "start_time": "2022-03-30T17:19:43.990Z"
   },
   {
    "duration": 14,
    "start_time": "2022-03-30T17:19:44.008Z"
   },
   {
    "duration": 168,
    "start_time": "2022-03-30T17:19:44.033Z"
   },
   {
    "duration": 139,
    "start_time": "2022-03-30T17:19:44.202Z"
   },
   {
    "duration": 14,
    "start_time": "2022-03-30T17:19:44.343Z"
   },
   {
    "duration": 13,
    "start_time": "2022-03-30T17:19:44.358Z"
   },
   {
    "duration": 11,
    "start_time": "2022-03-30T17:19:44.373Z"
   },
   {
    "duration": 241,
    "start_time": "2022-03-30T17:19:44.385Z"
   },
   {
    "duration": 160,
    "start_time": "2022-03-30T17:19:44.627Z"
   },
   {
    "duration": 307,
    "start_time": "2022-03-30T17:19:44.789Z"
   },
   {
    "duration": 5,
    "start_time": "2022-03-30T17:19:45.098Z"
   },
   {
    "duration": 147,
    "start_time": "2022-03-30T17:19:45.105Z"
   },
   {
    "duration": 3,
    "start_time": "2022-03-30T17:19:45.254Z"
   },
   {
    "duration": 5,
    "start_time": "2022-03-30T17:19:45.258Z"
   },
   {
    "duration": 15,
    "start_time": "2022-03-30T17:29:38.766Z"
   },
   {
    "duration": 389,
    "start_time": "2022-03-30T17:29:56.302Z"
   },
   {
    "duration": 261,
    "start_time": "2022-03-30T17:35:45.994Z"
   },
   {
    "duration": 273,
    "start_time": "2022-03-30T17:36:19.452Z"
   },
   {
    "duration": 407,
    "start_time": "2022-03-30T17:37:09.743Z"
   },
   {
    "duration": 305,
    "start_time": "2022-03-30T17:37:20.415Z"
   },
   {
    "duration": 284,
    "start_time": "2022-03-30T17:41:31.738Z"
   },
   {
    "duration": 302,
    "start_time": "2022-03-30T17:47:24.441Z"
   },
   {
    "duration": 277,
    "start_time": "2022-03-30T17:52:24.878Z"
   },
   {
    "duration": 290,
    "start_time": "2022-03-30T17:53:33.473Z"
   },
   {
    "duration": 302,
    "start_time": "2022-03-30T17:53:58.803Z"
   },
   {
    "duration": 290,
    "start_time": "2022-03-30T17:54:19.051Z"
   },
   {
    "duration": 280,
    "start_time": "2022-03-30T17:54:27.443Z"
   },
   {
    "duration": 270,
    "start_time": "2022-03-30T17:54:43.333Z"
   },
   {
    "duration": 259,
    "start_time": "2022-03-30T17:54:56.445Z"
   },
   {
    "duration": 280,
    "start_time": "2022-03-30T17:57:21.629Z"
   },
   {
    "duration": 1811,
    "start_time": "2022-03-30T19:21:20.545Z"
   },
   {
    "duration": 27,
    "start_time": "2022-03-30T19:21:22.359Z"
   },
   {
    "duration": 4,
    "start_time": "2022-03-30T19:21:22.388Z"
   },
   {
    "duration": 14,
    "start_time": "2022-03-30T19:21:22.395Z"
   },
   {
    "duration": 12,
    "start_time": "2022-03-30T19:21:22.411Z"
   },
   {
    "duration": 53,
    "start_time": "2022-03-30T19:21:22.425Z"
   },
   {
    "duration": 19,
    "start_time": "2022-03-30T19:21:22.480Z"
   },
   {
    "duration": 21,
    "start_time": "2022-03-30T19:21:22.503Z"
   },
   {
    "duration": 19,
    "start_time": "2022-03-30T19:21:22.526Z"
   },
   {
    "duration": 20,
    "start_time": "2022-03-30T19:21:22.576Z"
   },
   {
    "duration": 7,
    "start_time": "2022-03-30T19:21:22.598Z"
   },
   {
    "duration": 11,
    "start_time": "2022-03-30T19:21:22.607Z"
   },
   {
    "duration": 56,
    "start_time": "2022-03-30T19:21:22.620Z"
   },
   {
    "duration": 296,
    "start_time": "2022-03-30T19:21:22.679Z"
   },
   {
    "duration": 243,
    "start_time": "2022-03-30T19:21:22.977Z"
   },
   {
    "duration": 26,
    "start_time": "2022-03-30T19:21:23.223Z"
   },
   {
    "duration": 16,
    "start_time": "2022-03-30T19:21:23.275Z"
   },
   {
    "duration": 12,
    "start_time": "2022-03-30T19:21:23.293Z"
   },
   {
    "duration": 498,
    "start_time": "2022-03-30T19:21:23.307Z"
   },
   {
    "duration": 289,
    "start_time": "2022-03-30T19:21:23.807Z"
   },
   {
    "duration": 379,
    "start_time": "2022-03-30T19:21:24.098Z"
   },
   {
    "duration": 8,
    "start_time": "2022-03-30T19:21:24.479Z"
   },
   {
    "duration": 266,
    "start_time": "2022-03-30T19:21:24.489Z"
   },
   {
    "duration": 32,
    "start_time": "2022-03-30T19:21:24.757Z"
   },
   {
    "duration": 384,
    "start_time": "2022-03-30T19:21:24.791Z"
   },
   {
    "duration": 6,
    "start_time": "2022-03-30T19:25:26.531Z"
   },
   {
    "duration": 418,
    "start_time": "2022-03-30T19:26:15.645Z"
   },
   {
    "duration": 427,
    "start_time": "2022-03-30T19:26:35.610Z"
   },
   {
    "duration": 566,
    "start_time": "2022-03-30T19:27:12.796Z"
   },
   {
    "duration": 397,
    "start_time": "2022-03-30T19:27:34.037Z"
   },
   {
    "duration": 428,
    "start_time": "2022-03-30T19:28:37.368Z"
   },
   {
    "duration": 388,
    "start_time": "2022-03-30T19:28:50.465Z"
   },
   {
    "duration": 432,
    "start_time": "2022-03-30T19:29:00.938Z"
   },
   {
    "duration": 312,
    "start_time": "2022-03-30T19:29:18.013Z"
   },
   {
    "duration": 310,
    "start_time": "2022-03-30T19:29:27.987Z"
   },
   {
    "duration": 156,
    "start_time": "2022-03-30T19:34:34.076Z"
   },
   {
    "duration": 12,
    "start_time": "2022-03-30T19:34:52.196Z"
   },
   {
    "duration": 181,
    "start_time": "2022-03-30T19:37:29.187Z"
   },
   {
    "duration": 7,
    "start_time": "2022-03-30T19:41:26.512Z"
   },
   {
    "duration": 1316,
    "start_time": "2022-03-30T19:48:06.910Z"
   },
   {
    "duration": 205,
    "start_time": "2022-03-30T19:48:26.871Z"
   },
   {
    "duration": 18,
    "start_time": "2022-03-30T19:48:33.167Z"
   },
   {
    "duration": 207,
    "start_time": "2022-03-30T19:48:40.416Z"
   },
   {
    "duration": 196,
    "start_time": "2022-03-30T19:49:06.921Z"
   },
   {
    "duration": 14,
    "start_time": "2022-03-30T19:49:37.099Z"
   },
   {
    "duration": 217,
    "start_time": "2022-03-30T19:49:45.747Z"
   },
   {
    "duration": 6,
    "start_time": "2022-03-30T19:53:39.095Z"
   },
   {
    "duration": 16,
    "start_time": "2022-03-30T19:59:18.849Z"
   },
   {
    "duration": 107,
    "start_time": "2022-03-30T20:00:12.941Z"
   },
   {
    "duration": 1881,
    "start_time": "2022-03-30T20:00:57.808Z"
   },
   {
    "duration": 354,
    "start_time": "2022-03-30T20:12:26.601Z"
   },
   {
    "duration": 19,
    "start_time": "2022-03-30T20:16:15.142Z"
   },
   {
    "duration": 276,
    "start_time": "2022-03-30T20:17:14.874Z"
   },
   {
    "duration": 37,
    "start_time": "2022-03-30T20:21:03.686Z"
   },
   {
    "duration": 36,
    "start_time": "2022-03-30T20:22:20.183Z"
   },
   {
    "duration": 93,
    "start_time": "2022-03-30T20:28:18.205Z"
   },
   {
    "duration": 16,
    "start_time": "2022-03-30T20:30:35.037Z"
   },
   {
    "duration": 1341,
    "start_time": "2022-03-31T13:57:41.004Z"
   },
   {
    "duration": 26,
    "start_time": "2022-03-31T13:57:42.347Z"
   },
   {
    "duration": 3,
    "start_time": "2022-03-31T13:57:42.375Z"
   },
   {
    "duration": 15,
    "start_time": "2022-03-31T13:57:42.380Z"
   },
   {
    "duration": 10,
    "start_time": "2022-03-31T13:57:42.396Z"
   },
   {
    "duration": 32,
    "start_time": "2022-03-31T13:57:42.408Z"
   },
   {
    "duration": 4,
    "start_time": "2022-03-31T13:57:42.442Z"
   },
   {
    "duration": 15,
    "start_time": "2022-03-31T13:57:42.448Z"
   },
   {
    "duration": 14,
    "start_time": "2022-03-31T13:57:42.465Z"
   },
   {
    "duration": 20,
    "start_time": "2022-03-31T13:57:42.483Z"
   },
   {
    "duration": 14,
    "start_time": "2022-03-31T13:57:42.505Z"
   },
   {
    "duration": 5,
    "start_time": "2022-03-31T13:57:42.539Z"
   },
   {
    "duration": 15,
    "start_time": "2022-03-31T13:57:42.546Z"
   },
   {
    "duration": 16,
    "start_time": "2022-03-31T13:57:42.563Z"
   },
   {
    "duration": 182,
    "start_time": "2022-03-31T13:57:42.581Z"
   },
   {
    "duration": 133,
    "start_time": "2022-03-31T13:57:42.765Z"
   },
   {
    "duration": 17,
    "start_time": "2022-03-31T13:57:42.900Z"
   },
   {
    "duration": 10,
    "start_time": "2022-03-31T13:57:42.938Z"
   },
   {
    "duration": 20,
    "start_time": "2022-03-31T13:57:42.951Z"
   },
   {
    "duration": 285,
    "start_time": "2022-03-31T13:57:42.973Z"
   },
   {
    "duration": 210,
    "start_time": "2022-03-31T13:57:43.261Z"
   },
   {
    "duration": 312,
    "start_time": "2022-03-31T13:57:43.473Z"
   },
   {
    "duration": 6,
    "start_time": "2022-03-31T13:57:43.787Z"
   },
   {
    "duration": 197,
    "start_time": "2022-03-31T13:57:43.795Z"
   },
   {
    "duration": 17,
    "start_time": "2022-03-31T13:57:43.995Z"
   },
   {
    "duration": 359,
    "start_time": "2022-03-31T13:57:44.014Z"
   },
   {
    "duration": 9,
    "start_time": "2022-03-31T13:57:44.375Z"
   },
   {
    "duration": 128,
    "start_time": "2022-03-31T13:57:44.388Z"
   },
   {
    "duration": 5,
    "start_time": "2022-03-31T13:57:44.518Z"
   },
   {
    "duration": 152,
    "start_time": "2022-03-31T13:57:44.524Z"
   },
   {
    "duration": 4,
    "start_time": "2022-03-31T13:57:44.678Z"
   },
   {
    "duration": 310,
    "start_time": "2022-03-31T13:57:44.684Z"
   },
   {
    "duration": 130,
    "start_time": "2022-03-31T13:57:44.996Z"
   },
   {
    "duration": 32,
    "start_time": "2022-03-31T13:57:45.128Z"
   },
   {
    "duration": 10,
    "start_time": "2022-03-31T13:57:45.162Z"
   },
   {
    "duration": 2065,
    "start_time": "2022-03-31T13:57:45.173Z"
   },
   {
    "duration": 8,
    "start_time": "2022-03-31T13:58:25.300Z"
   },
   {
    "duration": 9,
    "start_time": "2022-03-31T14:04:11.776Z"
   },
   {
    "duration": 21,
    "start_time": "2022-03-31T14:04:57.472Z"
   },
   {
    "duration": 22,
    "start_time": "2022-03-31T14:08:32.491Z"
   },
   {
    "duration": 23,
    "start_time": "2022-03-31T14:09:03.861Z"
   },
   {
    "duration": 22,
    "start_time": "2022-03-31T14:09:14.294Z"
   },
   {
    "duration": 176,
    "start_time": "2022-03-31T14:12:29.305Z"
   },
   {
    "duration": 24,
    "start_time": "2022-03-31T14:13:24.960Z"
   },
   {
    "duration": 2503,
    "start_time": "2022-03-31T14:14:28.343Z"
   },
   {
    "duration": 14,
    "start_time": "2022-03-31T14:14:55.593Z"
   },
   {
    "duration": 15,
    "start_time": "2022-03-31T14:16:25.339Z"
   },
   {
    "duration": 287,
    "start_time": "2022-03-31T14:40:36.876Z"
   },
   {
    "duration": 288,
    "start_time": "2022-03-31T14:41:03.863Z"
   },
   {
    "duration": 8,
    "start_time": "2022-03-31T14:58:49.516Z"
   },
   {
    "duration": 8,
    "start_time": "2022-03-31T14:58:56.870Z"
   },
   {
    "duration": 23,
    "start_time": "2022-03-31T14:59:00.791Z"
   },
   {
    "duration": 14,
    "start_time": "2022-03-31T14:59:37.129Z"
   },
   {
    "duration": 4,
    "start_time": "2022-03-31T15:22:19.068Z"
   },
   {
    "duration": 8,
    "start_time": "2022-03-31T15:23:24.044Z"
   },
   {
    "duration": 8,
    "start_time": "2022-03-31T15:28:46.721Z"
   },
   {
    "duration": 196,
    "start_time": "2022-03-31T15:31:36.392Z"
   },
   {
    "duration": 200,
    "start_time": "2022-03-31T15:32:13.503Z"
   },
   {
    "duration": 198,
    "start_time": "2022-03-31T15:34:32.348Z"
   },
   {
    "duration": 201,
    "start_time": "2022-03-31T15:34:56.596Z"
   },
   {
    "duration": 316,
    "start_time": "2022-03-31T15:36:19.025Z"
   },
   {
    "duration": 190,
    "start_time": "2022-03-31T15:37:47.041Z"
   },
   {
    "duration": 296,
    "start_time": "2022-03-31T15:38:42.905Z"
   },
   {
    "duration": 128,
    "start_time": "2022-03-31T15:40:11.458Z"
   },
   {
    "duration": 152,
    "start_time": "2022-03-31T15:43:43.949Z"
   },
   {
    "duration": 161,
    "start_time": "2022-03-31T15:44:27.165Z"
   },
   {
    "duration": 204,
    "start_time": "2022-03-31T15:44:59.139Z"
   },
   {
    "duration": 136,
    "start_time": "2022-03-31T15:45:12.035Z"
   },
   {
    "duration": 136,
    "start_time": "2022-03-31T15:46:57.970Z"
   },
   {
    "duration": 157,
    "start_time": "2022-03-31T15:47:40.898Z"
   },
   {
    "duration": 160,
    "start_time": "2022-03-31T15:54:26.792Z"
   },
   {
    "duration": 146,
    "start_time": "2022-03-31T15:54:51.699Z"
   },
   {
    "duration": 178,
    "start_time": "2022-03-31T15:55:02.793Z"
   },
   {
    "duration": 143,
    "start_time": "2022-03-31T15:55:17.443Z"
   },
   {
    "duration": 145,
    "start_time": "2022-03-31T15:55:30.796Z"
   },
   {
    "duration": 128,
    "start_time": "2022-03-31T15:55:43.299Z"
   },
   {
    "duration": 144,
    "start_time": "2022-03-31T15:56:02.857Z"
   },
   {
    "duration": 1151,
    "start_time": "2022-03-31T15:57:25.487Z"
   },
   {
    "duration": 25,
    "start_time": "2022-03-31T15:57:26.640Z"
   },
   {
    "duration": 3,
    "start_time": "2022-03-31T15:57:26.669Z"
   },
   {
    "duration": 13,
    "start_time": "2022-03-31T15:57:26.674Z"
   },
   {
    "duration": 9,
    "start_time": "2022-03-31T15:57:26.689Z"
   },
   {
    "duration": 38,
    "start_time": "2022-03-31T15:57:26.700Z"
   },
   {
    "duration": 4,
    "start_time": "2022-03-31T15:57:26.740Z"
   },
   {
    "duration": 18,
    "start_time": "2022-03-31T15:57:26.746Z"
   },
   {
    "duration": 15,
    "start_time": "2022-03-31T15:57:26.767Z"
   },
   {
    "duration": 28,
    "start_time": "2022-03-31T15:57:26.784Z"
   },
   {
    "duration": 24,
    "start_time": "2022-03-31T15:57:26.814Z"
   },
   {
    "duration": 12,
    "start_time": "2022-03-31T15:57:26.840Z"
   },
   {
    "duration": 6,
    "start_time": "2022-03-31T15:57:26.854Z"
   },
   {
    "duration": 14,
    "start_time": "2022-03-31T15:57:26.861Z"
   },
   {
    "duration": 12,
    "start_time": "2022-03-31T15:57:26.877Z"
   },
   {
    "duration": 187,
    "start_time": "2022-03-31T15:57:26.891Z"
   },
   {
    "duration": 124,
    "start_time": "2022-03-31T15:57:27.080Z"
   },
   {
    "duration": 15,
    "start_time": "2022-03-31T15:57:27.206Z"
   },
   {
    "duration": 9,
    "start_time": "2022-03-31T15:57:27.237Z"
   },
   {
    "duration": 28,
    "start_time": "2022-03-31T15:57:27.248Z"
   },
   {
    "duration": 277,
    "start_time": "2022-03-31T15:57:27.279Z"
   },
   {
    "duration": 212,
    "start_time": "2022-03-31T15:57:27.558Z"
   },
   {
    "duration": 296,
    "start_time": "2022-03-31T15:57:27.771Z"
   },
   {
    "duration": 5,
    "start_time": "2022-03-31T15:57:28.069Z"
   },
   {
    "duration": 203,
    "start_time": "2022-03-31T15:57:28.076Z"
   },
   {
    "duration": 16,
    "start_time": "2022-03-31T15:57:28.281Z"
   },
   {
    "duration": 336,
    "start_time": "2022-03-31T15:57:28.302Z"
   },
   {
    "duration": 9,
    "start_time": "2022-03-31T15:57:28.640Z"
   },
   {
    "duration": 153,
    "start_time": "2022-03-31T15:57:28.651Z"
   },
   {
    "duration": 5,
    "start_time": "2022-03-31T15:57:28.806Z"
   },
   {
    "duration": 162,
    "start_time": "2022-03-31T15:57:28.812Z"
   },
   {
    "duration": 5,
    "start_time": "2022-03-31T15:57:28.976Z"
   },
   {
    "duration": 305,
    "start_time": "2022-03-31T15:57:28.982Z"
   },
   {
    "duration": 155,
    "start_time": "2022-03-31T15:57:29.288Z"
   },
   {
    "duration": 27,
    "start_time": "2022-03-31T15:57:29.444Z"
   },
   {
    "duration": 11,
    "start_time": "2022-03-31T15:57:29.473Z"
   },
   {
    "duration": 10,
    "start_time": "2022-03-31T15:57:29.486Z"
   },
   {
    "duration": 44,
    "start_time": "2022-03-31T15:57:29.497Z"
   },
   {
    "duration": 22,
    "start_time": "2022-03-31T15:57:29.543Z"
   },
   {
    "duration": 15,
    "start_time": "2022-03-31T15:57:29.567Z"
   },
   {
    "duration": 1239,
    "start_time": "2022-04-01T10:21:51.470Z"
   },
   {
    "duration": 1174,
    "start_time": "2022-04-01T10:33:09.303Z"
   },
   {
    "duration": 19,
    "start_time": "2022-04-01T10:33:10.479Z"
   },
   {
    "duration": 9,
    "start_time": "2022-04-01T10:33:10.500Z"
   },
   {
    "duration": 17,
    "start_time": "2022-04-01T10:33:10.511Z"
   },
   {
    "duration": 13,
    "start_time": "2022-04-01T10:33:10.530Z"
   },
   {
    "duration": 68,
    "start_time": "2022-04-01T10:33:10.545Z"
   },
   {
    "duration": 5,
    "start_time": "2022-04-01T10:33:10.614Z"
   },
   {
    "duration": 15,
    "start_time": "2022-04-01T10:33:10.620Z"
   },
   {
    "duration": 12,
    "start_time": "2022-04-01T10:33:10.637Z"
   },
   {
    "duration": 9,
    "start_time": "2022-04-01T10:33:10.652Z"
   },
   {
    "duration": 14,
    "start_time": "2022-04-01T10:33:10.663Z"
   },
   {
    "duration": 38,
    "start_time": "2022-04-01T10:33:10.678Z"
   },
   {
    "duration": 4,
    "start_time": "2022-04-01T10:33:10.718Z"
   },
   {
    "duration": 9,
    "start_time": "2022-04-01T10:33:10.723Z"
   },
   {
    "duration": 12,
    "start_time": "2022-04-01T10:33:10.733Z"
   },
   {
    "duration": 196,
    "start_time": "2022-04-01T10:33:10.746Z"
   },
   {
    "duration": 129,
    "start_time": "2022-04-01T10:33:10.944Z"
   },
   {
    "duration": 16,
    "start_time": "2022-04-01T10:33:11.075Z"
   },
   {
    "duration": 25,
    "start_time": "2022-04-01T10:33:11.092Z"
   },
   {
    "duration": 13,
    "start_time": "2022-04-01T10:33:11.119Z"
   },
   {
    "duration": 303,
    "start_time": "2022-04-01T10:33:11.134Z"
   },
   {
    "duration": 220,
    "start_time": "2022-04-01T10:33:11.439Z"
   },
   {
    "duration": 296,
    "start_time": "2022-04-01T10:33:11.660Z"
   },
   {
    "duration": 6,
    "start_time": "2022-04-01T10:33:11.958Z"
   },
   {
    "duration": 215,
    "start_time": "2022-04-01T10:33:11.966Z"
   },
   {
    "duration": 24,
    "start_time": "2022-04-01T10:33:12.184Z"
   },
   {
    "duration": 322,
    "start_time": "2022-04-01T10:33:12.210Z"
   },
   {
    "duration": 9,
    "start_time": "2022-04-01T10:33:12.536Z"
   },
   {
    "duration": 153,
    "start_time": "2022-04-01T10:33:12.547Z"
   },
   {
    "duration": 9,
    "start_time": "2022-04-01T10:33:12.702Z"
   },
   {
    "duration": 174,
    "start_time": "2022-04-01T10:33:12.712Z"
   },
   {
    "duration": 4,
    "start_time": "2022-04-01T10:33:12.889Z"
   },
   {
    "duration": 299,
    "start_time": "2022-04-01T10:33:12.894Z"
   },
   {
    "duration": 155,
    "start_time": "2022-04-01T10:33:13.195Z"
   },
   {
    "duration": 27,
    "start_time": "2022-04-01T10:33:13.351Z"
   },
   {
    "duration": 29,
    "start_time": "2022-04-01T10:33:13.380Z"
   },
   {
    "duration": 10,
    "start_time": "2022-04-01T10:33:13.411Z"
   },
   {
    "duration": 11,
    "start_time": "2022-04-01T10:33:13.423Z"
   },
   {
    "duration": 24,
    "start_time": "2022-04-01T10:33:13.436Z"
   },
   {
    "duration": 15,
    "start_time": "2022-04-01T10:33:13.462Z"
   },
   {
    "duration": 248,
    "start_time": "2022-04-01T10:35:24.451Z"
   },
   {
    "duration": 151,
    "start_time": "2022-04-01T10:35:34.595Z"
   },
   {
    "duration": 159,
    "start_time": "2022-04-01T10:36:38.149Z"
   },
   {
    "duration": 157,
    "start_time": "2022-04-01T10:38:20.387Z"
   },
   {
    "duration": 5,
    "start_time": "2022-04-01T10:44:16.066Z"
   },
   {
    "duration": 28,
    "start_time": "2022-04-01T10:44:24.462Z"
   },
   {
    "duration": 27,
    "start_time": "2022-04-01T10:44:40.879Z"
   },
   {
    "duration": 26,
    "start_time": "2022-04-01T10:46:03.715Z"
   },
   {
    "duration": 33,
    "start_time": "2022-04-01T10:49:44.937Z"
   },
   {
    "duration": 27,
    "start_time": "2022-04-01T10:50:18.400Z"
   },
   {
    "duration": 12,
    "start_time": "2022-04-01T10:53:05.281Z"
   },
   {
    "duration": 9,
    "start_time": "2022-04-01T10:57:11.124Z"
   },
   {
    "duration": 26,
    "start_time": "2022-04-01T11:01:33.346Z"
   },
   {
    "duration": 28,
    "start_time": "2022-04-01T11:03:44.952Z"
   },
   {
    "duration": 12,
    "start_time": "2022-04-01T11:06:12.932Z"
   },
   {
    "duration": 12,
    "start_time": "2022-04-01T11:06:28.615Z"
   },
   {
    "duration": 12,
    "start_time": "2022-04-01T11:07:00.841Z"
   },
   {
    "duration": 33,
    "start_time": "2022-04-01T11:07:58.819Z"
   },
   {
    "duration": 25,
    "start_time": "2022-04-01T11:10:08.330Z"
   },
   {
    "duration": 11,
    "start_time": "2022-04-01T11:13:53.867Z"
   },
   {
    "duration": 25,
    "start_time": "2022-04-01T11:14:19.712Z"
   },
   {
    "duration": 31,
    "start_time": "2022-04-01T11:17:23.157Z"
   },
   {
    "duration": 17,
    "start_time": "2022-04-01T11:18:24.692Z"
   },
   {
    "duration": 9,
    "start_time": "2022-04-01T11:22:02.793Z"
   },
   {
    "duration": 26,
    "start_time": "2022-04-01T11:22:46.447Z"
   },
   {
    "duration": 16,
    "start_time": "2022-04-01T11:22:58.943Z"
   },
   {
    "duration": 17,
    "start_time": "2022-04-01T11:23:13.816Z"
   },
   {
    "duration": 141,
    "start_time": "2022-04-01T11:25:23.582Z"
   },
   {
    "duration": 48,
    "start_time": "2022-04-01T12:31:46.694Z"
   },
   {
    "duration": 1063,
    "start_time": "2022-04-01T12:31:49.031Z"
   },
   {
    "duration": 21,
    "start_time": "2022-04-01T12:31:50.096Z"
   },
   {
    "duration": 3,
    "start_time": "2022-04-01T12:31:50.118Z"
   },
   {
    "duration": 10,
    "start_time": "2022-04-01T12:31:50.123Z"
   },
   {
    "duration": 7,
    "start_time": "2022-04-01T12:31:50.135Z"
   },
   {
    "duration": 37,
    "start_time": "2022-04-01T12:31:50.143Z"
   },
   {
    "duration": 4,
    "start_time": "2022-04-01T12:31:50.182Z"
   },
   {
    "duration": 20,
    "start_time": "2022-04-01T12:31:50.188Z"
   },
   {
    "duration": 11,
    "start_time": "2022-04-01T12:31:50.210Z"
   },
   {
    "duration": 12,
    "start_time": "2022-04-01T12:31:50.223Z"
   },
   {
    "duration": 13,
    "start_time": "2022-04-01T12:31:50.237Z"
   },
   {
    "duration": 12,
    "start_time": "2022-04-01T12:31:50.251Z"
   },
   {
    "duration": 4,
    "start_time": "2022-04-01T12:31:50.264Z"
   },
   {
    "duration": 8,
    "start_time": "2022-04-01T12:31:50.270Z"
   },
   {
    "duration": 37,
    "start_time": "2022-04-01T12:31:50.280Z"
   },
   {
    "duration": 179,
    "start_time": "2022-04-01T12:31:50.318Z"
   },
   {
    "duration": 131,
    "start_time": "2022-04-01T12:31:50.498Z"
   },
   {
    "duration": 14,
    "start_time": "2022-04-01T12:31:50.631Z"
   },
   {
    "duration": 10,
    "start_time": "2022-04-01T12:31:50.646Z"
   },
   {
    "duration": 11,
    "start_time": "2022-04-01T12:31:50.657Z"
   },
   {
    "duration": 304,
    "start_time": "2022-04-01T12:31:50.669Z"
   },
   {
    "duration": 220,
    "start_time": "2022-04-01T12:31:50.975Z"
   },
   {
    "duration": 343,
    "start_time": "2022-04-01T12:31:51.197Z"
   },
   {
    "duration": 5,
    "start_time": "2022-04-01T12:31:51.541Z"
   },
   {
    "duration": 215,
    "start_time": "2022-04-01T12:31:51.548Z"
   },
   {
    "duration": 15,
    "start_time": "2022-04-01T12:31:51.765Z"
   },
   {
    "duration": 337,
    "start_time": "2022-04-01T12:31:51.781Z"
   },
   {
    "duration": 11,
    "start_time": "2022-04-01T12:31:52.122Z"
   },
   {
    "duration": 148,
    "start_time": "2022-04-01T12:31:52.135Z"
   },
   {
    "duration": 4,
    "start_time": "2022-04-01T12:31:52.285Z"
   },
   {
    "duration": 185,
    "start_time": "2022-04-01T12:31:52.291Z"
   },
   {
    "duration": 209,
    "start_time": "2022-04-01T12:31:59.600Z"
   },
   {
    "duration": 151,
    "start_time": "2022-04-01T12:32:09.065Z"
   },
   {
    "duration": 143,
    "start_time": "2022-04-01T12:32:34.230Z"
   },
   {
    "duration": 137,
    "start_time": "2022-04-01T12:32:37.252Z"
   },
   {
    "duration": 153,
    "start_time": "2022-04-01T12:32:52.221Z"
   },
   {
    "duration": 71,
    "start_time": "2022-04-01T12:33:40.251Z"
   },
   {
    "duration": 6,
    "start_time": "2022-04-01T12:49:47.316Z"
   },
   {
    "duration": 5,
    "start_time": "2022-04-01T12:49:55.483Z"
   },
   {
    "duration": 5,
    "start_time": "2022-04-01T12:49:59.964Z"
   },
   {
    "duration": 5,
    "start_time": "2022-04-01T12:50:11.128Z"
   }
  ],
  "kernelspec": {
   "display_name": "Python 3 (ipykernel)",
   "language": "python",
   "name": "python3"
  },
  "language_info": {
   "codemirror_mode": {
    "name": "ipython",
    "version": 3
   },
   "file_extension": ".py",
   "mimetype": "text/x-python",
   "name": "python",
   "nbconvert_exporter": "python",
   "pygments_lexer": "ipython3",
   "version": "3.9.7"
  },
  "toc": {
   "base_numbering": 1,
   "nav_menu": {},
   "number_sections": true,
   "sideBar": true,
   "skip_h1_title": true,
   "title_cell": "Table of Contents",
   "title_sidebar": "Contents",
   "toc_cell": false,
   "toc_position": {},
   "toc_section_display": true,
   "toc_window_display": true
  }
 },
 "nbformat": 4,
 "nbformat_minor": 2
}
